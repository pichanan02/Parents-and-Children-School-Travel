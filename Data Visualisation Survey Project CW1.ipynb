{
 "cells": [
  {
   "cell_type": "markdown",
   "id": "e40134e7",
   "metadata": {},
   "source": [
    "# MSc Data Science: Data Visualisation Coureswork \n",
    "\n",
    "## Parents and Children School Travel"
   ]
  },
  {
   "cell_type": "markdown",
   "id": "cf908fea",
   "metadata": {},
   "source": [
    "## Introduction\n",
    "\n",
    "The journey by children to school affects all other travellers both during morning rush hour and later in the day. This influence on local transport means there are social and environmental concerns that effect everyone.  The choices and options available for the journey to school reflect issues important to society and family life.  These concerns impact and shape the experience of children and their quality of life.  The analysis of journeys to school are therefore an important area of research and analysis.\n",
    "\n",
    "#### Background and context\n",
    "\n",
    "Many London boroughs have introduced planned controls of traffic within residential areas; what have come to be known as Low Traffic Neighbourhood (LTNs).  In terms of the Islington Council LTN I can see parents taking their kids to school. At the school run time the traffic around the school is very busy.\n",
    "\n",
    "London boroughs have a good provision of Public transport though many people live near or on main roadways.  The public health impact of these transport links on growing children is influenced by how and where they travel to school.  \n",
    "\n",
    "#### Research motivation and objectives\n",
    "\n",
    "The study looks to gather information on primary and nursery school journeys in the London Borough of Islington. \n",
    "The study intends to look at what modes of transport are used by children to get to school and why these choices are made.  The different modes or transport can then be considered against different factors such as age of the children and parental concerns.  The results of the survey will help understand why these choices have been made.\n",
    "From the study we hope to understand what key factors motivate the choice of travel to school.  We know that these choices impact the journeys of other travellers and children’s safety and health.  I hope the results of the survey will inform how better journey options are facilitated and encouraged.\n",
    "\n",
    "#### Overview of key findings\n",
    "\n",
    "The target respondents were adults with children of nursery and primary aged children attending institutions in Islington.  The survey showed that this group reflected specific choices and travel options in mostly in the context of living close to their children’s school and nurseries.\n",
    "\n",
    "Many respondents while taking children to schools in Islington borough did not live in the borough.  Though 86% of respondents said they live one mile of less to the school or nursey.\n",
    "\n",
    "Just under two thirds of respondents to the survey were female which reflects the responsibility of getting children to school.  This will have had an influence on the choice of mode of travel vs. the access to different modes of travel though this detail was not captured in the survey and the answers to other question suggest that this would not has be a significant factor.\n",
    "\n",
    "The age of the children captured by the survey helped explain why most children travelling to school were accompanied by an adult and this was reflected by answer in the survey.  Other answers were also given which should be given some weighting; because it is thought safer to accompany children to school does not infer that it is preferable.\n",
    "The proximity to school was a key finding that explained why more than 8 out of 10 respondents noted walking as a mode of travel to school.  More than 1 in 3 also answered that driving was an option.  Though of significance is that 2 in three did not put this as an option.  This acknowledges both the low car ownership in the area and may further explained the reasons given for the choice of travel; distance being too short to use other mode of transport and health and environmental factors.\n",
    "\n",
    "#### Sample and population\n",
    "\n",
    "The survey will seek to understand people’s choices and behaviour in the context of a specific urban area.  Provision is made to collect data from respondents living outside of the Islington brough area and also for children being schooled outside the borough.  While I am looking to study the subset of children attending schools in the borough it is important that a broader sample is catered for.  This will allow use to consider the context of the main body of respondents and the answers given.  This may include consideration for whether the answers we have from the target set of adults defines them or is universal to all adults answering the survey.\n",
    "\n",
    "Families may live in Islington and send their children to school outside of the borough.  The number of these respondents will be limited though may again help define more clearly the target group.  Other families may not live in Islington though have children being schooled in the borough.   This group may be considered more in the context of distance to school.  Too narrow a respondent group may give a sample with answers that do not vary enough to infer clear conclusions from the majority of respondents.\n",
    "\n",
    "The sample size will also have an important impact on the clarity of the conclusions we can determine.  This is also true of the accuracy of conclusions or comparison we may be able to draws from answer from recipients outside of the key population of adults in the borough with children schooled in the borough.\n",
    "\n",
    "It is important that the questionnaire is distributed to and answered by as large a number of respondents as is possible.  The manner in which it is distributed will mean that this approach is likely to result in a significant proportion of the respondents still being in the target population of the survey.\n",
    "\n",
    "\n",
    "\n",
    "\n",
    "#### Stated research questions\n",
    "\n",
    "The research questions intend to field specific demographic and locality questions as a foundation to the more subjective question about the travel or conveyance of children to school.\n",
    "National research completed by the Department of Transport on the question of children’s school journeys captured data relating to children of all age ranges and in both urban, suburban and non-urban context.  My research questions will have a more limited scope in their target population and region though will follow a similar structure.  The key basis is that there will be a small number or core question that can be answers without likely bias or mis-interpretation.  These will then be followed by a limited number of more subject question.  The latter will As with this national research the \n",
    "\n",
    "#### Domain concepts\n",
    "\n",
    "The target group of children the survey will study are of primary, and nursey aged.  While compulsory school attendance only starts at the age of 5 the number of children going to nursery in the local area reflects social circumstances were children 1 or 2 years old attend nursery 4 or 5 days a week.  In this study the term school will cover attendance at specific nursery or primary school-based nursery provision as well as infant or junior schools.\n",
    "\n",
    "National research, completed by the Department of Transport did not concern terms such as urban, suburban and non-urban.  The research question is specifically focused on a small urban area to ensure the number of responses give valid data from which conclusion can be drawn.  How the data related to larger data sets of different areas is outside the consideration of the questionnaire.\n",
    "\n",
    "All adults consulted in the study are understood to be responsible for conveying children to school.  Whether these adults are the children’s parent or part of a wider family or non-family network is not considered or recorded as part of this survey.  The term parent may be used to refer to the adult respondent to the survey though they maybe any other relation to the children being referred to.\n",
    "\n"
   ]
  },
  {
   "cell_type": "markdown",
   "id": "505bf416",
   "metadata": {},
   "source": [
    "## Survey design\n",
    "\n",
    "The survey is to be completed by parents so I can present an understanding of why\n",
    "different modes of transport are chosen by parents taking their children to school.\n",
    "\n",
    "This survey will be open until 1 June 2021 all data will then be analysied.\n",
    "\n",
    "#### Describe structure\n",
    "\n",
    "All questions will be Closed–Ended Type (Multiple Choice – One Answer or Multiple Answers)\n",
    "\n",
    "Closed-ended questions are those with pre-designed answers with a small or large set of potential choices. One type of closed-ended question is a “dichotomous” question which allows respondents to choose one of two answer choices (e.g. Yes or No), while another type is the “multi-choice” question, which allows respondents to choose one of many answer choices (Web-based survey software, 2014).\n",
    "\n",
    "This question type will be used to ensure both that respondents can answer questions in a manner that can be compared easily with other respondent.  For the demographic quesiton for participents the factor relevant to the survey are confined to some limited though speific factors: Age of child, gender of respondent, distance from school.  For other survey questions we have a good understanding of the range of answers possible.  On the quesiton of mode of travel provision is made for means of travel not listed as an option.  This provide repondents to answer though not detail what 'other' means they use to get to school.  The survey is concerned in part with means of transport which are not preferable rather than being concerned with specific modes of tranport. \n",
    "\n",
    "We know that there are a limited number of answers to many of the questions and that it is a prioirty for partents to be able to answer the whole survey in a short space of time.  This is appropriate for the limited set of questions that the survey will aim to answer.\n",
    "\n",
    "#### Operational definaitions\n",
    "Data source:\n",
    "\n",
    "The information source will be based on answers submitted by respondents to the questionnaire.  In this report we will therefore collect information that is primary data. 'Primary data, data derived from the data source or origin of the data, such as experimental data, survey' (Pornpoj, 2020). \n",
    "\n",
    "To meet our research objective we will collect data according to the demands of the research question that can then be analysed with clear analytical techniques.  Collecting data this way may have a disadvantage in that it can be time consuming, costly and may not be of good quality, particularly if there is an error in field data collection.  However the use of on-line data collection means that it is less time demanding and not costly.   \n",
    "\n",
    "#### How the survey questions will produce good data that are relevant to the reserch questions\n",
    "\n",
    "The social and parent network of people that will likely receive and respond to the questionnaire means most responses are from Nursery and Primary age children.  The focus and findings of the survey will centre on journeys to school for a younger age range of children so the distribution method of the quesitonaire should server this aim.\n",
    "\n",
    "The questions will cover a specific set of answers we expect related to younger childern.  While this in turn may create bias the range of answers available is still limited, particularly in the context of these being journeys within the city.\n",
    "\n",
    "The questions will adhere to the scope of the research brief which allow the questionaire to be concise.  The research follows similar national research though has the advantage of being on a smaller area for what is possibly a narrow demographic range.\n",
    "\n",
    "\n",
    "#### Population\n",
    "Sample 56 parents responded during May to 1 June 2021. My data will come from asking parents from my son's school and some of the neiboughs who live and their kids' school in Islington Borough, London completed the survey. The survey were asked to share with parents survey via socail media whatsapp and text."
   ]
  },
  {
   "cell_type": "markdown",
   "id": "dbe63e92",
   "metadata": {},
   "source": [
    "## Data overview and pre-processing\n",
    "\n",
    "#### Data types and pre-processing\n",
    "- Type of data:\n",
    "In this survey I have confined all answers to being Qualitative information(Qualitative Data).  This is true for both the first few demographic question and the core questions specific to the survey.\n",
    "\n",
    "- Variable and concepts:\n",
    "\n",
    "Variable data types within the survey:\n",
    "\n",
    "- Categorical / Nomonal / Non-ordered categorical : Gender, Resident_Islington, School_Islington, Children_Age_Group, Mode_of_Travel, Purpose_of_Journey, Reasons_Mode_of_Travel, Accompanying_children, Reasons_Accompanying\n",
    "\n",
    "- Categorical / Ordinal (Ordered categorical) : Age, Distance, Travel_Time, Satisfaction\n",
    "\n",
    "#### Define all relevant concept in the survey:\n",
    "- Gender : Gender of respondent\n",
    "- Age : Age of respondent\n",
    "- Resident_Islington : Area of residence of the respondent\n",
    "- School_Islington : Are in which respondent’s children attend school\n",
    "- Children_Age_Group : \n",
    "- Travel_Time : Time taken for child’s journey to school\n",
    "- Distance : Distance of child’s journey to school\n",
    "- Mode_of_Travel : Mode of travel of child to school\n",
    "- Purpose_of_Journey : Is the journey specifically to take child to school\n",
    "- Reasons_Mode_of_Travel : Reasons for choosing this mode of transit to school\n",
    "- Accompanying_children :\n",
    "- Reasons_Accompanying : Reasons for accompanying children to school\n",
    "- Satisfaction : Satisfaction of mode of transit to school\n",
    "\n",
    "#### Number of reponses\n",
    "There are 56 responses: \n",
    "there are 56 observations and 13 variables, \n",
    "\n",
    "There are missing data, I have replace missing values with previous or following non-missing values because I want to maintain all my responses. \n"
   ]
  },
  {
   "cell_type": "markdown",
   "id": "60ce7779",
   "metadata": {},
   "source": [
    "## Analysis and results\n",
    "\n",
    "#### 1.Gender :  What is your gender?\n",
    "This pie graph shows that of all the parents who responded to the survey there were more females than males, representing 62.5 percent of the total surveyed population.\n",
    "\n",
    "This reflects the expected circulation of the survey which was initially mostly addressed to mothers.  This also likely reflects slightly more females taking responsibility of getting children to school.  Though this may reflect that there are more single parent mothers than single parent fathers.\n",
    "\n",
    "#### 2.Age :  What is your age?\n",
    "The bar graph shows that of all the parents who responded to the survey most were in the age range 40-49years and 30-39 years with same number of respondents, 23 each.  Next most were in the range 50-65 years and then lastly those of 20-29 years.\n",
    "\n",
    "This reflects the expected balance of parental ages.  So follows what we might expect from the adults respondents of the survey.\n",
    "\n",
    "#### 3.Resident_Islington : Do you live in Islington Borough, London?\n",
    "The pie graph shows that the percentage of respondents residents in Islington was higher than non-Islington residents, residents being 53.6% of the total number.  But it is noted that the two numbers are not much different.\n",
    "\n",
    "As the survey was initially circulated amongst parents at one school this school is not far from an adjacent London borough so there are children there that are not living in Islington.  As the survey was left open to be circulated there it is also the case that other parents outside of the initial release group that were referred the survey who were outside the initial target group.\n",
    "\n",
    "#### 4.School_Islington : Is your Childs school / Nursery within Islington Borough, London?\n",
    "The pie graph shows that the percentage of children attending schools in islington, 57.1%, shows that more than half of all people attend school in islington.\n",
    "\n",
    "Again as the survey was left open for any parents to fill this out it may have been referred on to parents who were outside the initial target group.\n",
    "\n",
    "#### 5.Children_Age_Group :  Which age group are your children in? Tick ALL that apply\n",
    "The bar graph shows the total number of children being 74 with most attending primary school, at 41 of the total respondents, 55.4% of all children.  Followed by children who are in Nursery / Pre-school / Day care at about 40.5%, and the lowest was secondary school children at only about 4.1%.\n",
    "\n",
    "This again reflects the group of parents that were initially canvassed.  The lower age range of children is also understood to be a less diverse group of circumstance were children go to school locally and travel into school short distances.\n",
    "\n",
    "#### 6.Distance : How far do you live from the school?\n",
    "The graph shows most residents are within the closest distance range to the school.\n",
    "\n",
    "This reflects the understood target group of parents with children at local primary schools.\n",
    "\n",
    "#### 7.Travel_Time :  How long dose it take for your children to get to school?\n",
    "This graph shows that respondents who spent less than 10 minutes traveling to school represented the largest number or respondents, then the number decreased with more travel time.  This shows consistency with information about distance from school and the understood demographic and location of children in their earlier school years.\n",
    "\n",
    "#### 8.Mode_of_Travel : How do your children usually travel to school? Tick ALL the apply\n",
    "The graph showing the mode of travel shows that the majority of children choose to walk to school.  Around 55.72% of the total which is consistent with the information that most children reside close to the school.\n",
    "\n",
    "#### 9.Purpose_of_Journey :  What are the main reasons for you and your children travelling this way to school? Tick ALL that apply\n",
    "From the pie graph, it shows that most parent's reason for traveling is paticularly to drop their children to school at 83.9% of all parents.  Though there are still a number of people who note there being other reasons 16.1%.\n",
    "\n",
    "It is of interest to reference how this answer may reflect the choice of mode of travel should parents be continuing their journey on once having left their children into school. \n",
    "\n",
    "#### 10.Reasons_Mode_of_Travel : Reason Mode of Travel?\n",
    "This graph shows that the reasons people chose their most preferred mode of travel were that it is the fastest, followed by that it is good for my child's health and wellbeing.  Those who responded with the 'distance is too short to use any other mode' was the third most popular response.  The reason people choose the least is He/she cannot get there any other way.\n",
    "\n",
    "#### 11.Accompanying_children  :  Do you accompany your children to school?\n",
    "This graph shows that over 92.9% of all parents choose to go to school with their children. This may be consistent with the information that most children are nursery or primary school children, making parents choose to go to school with their children for safety reasons.\n",
    "\n",
    "#### 12.Reasons_Accompanying : What are the main reasons for you and your children travelling this way to school? Tick ALL that apply\n",
    "This graph shows that the main reason for going to school with children is because the children are too young to travel alone followed by traffic danger.\n",
    "\n",
    "\n",
    "#### 13.Satisfaction :   How satisfied are you with the way your child currently travel to school?\n",
    "The graph shows that most of the respondents had travel satisfaction, either Fairly or Very, from 14.29% and 53.57%.  Answering as Very unsatisfied were 12.5% of respondents.\n",
    "\n",
    "#### 14.Age + Gender : Number of respondence for each age range\n",
    "This graph shows the age ranges with most respondents being between 30-39 and 40-49 with more females respondents.\n",
    "\n",
    "#### 15. Children Age Group + Mode of Travel : Traveling mode of each child groups\n",
    "The graph shows that for every children group, the main mode of travel is walking. Another popular mode for Nursery and Primary school children is driving and cycling.  And it can be seen that Secondary school students have only one way to travel, which is walking.  Though the low number of Secondary school children being represented do not may this observation significant.\n",
    "\n",
    "#### 16.Children_Group + Reasons_travel : Traveling reason of each Child group\n",
    "The main reason for the way children travel among Nurseries is because 'it is the fastest'.  This was followed by the distance being 'too close to use the other method' and 'because it was healthy' respectively.  The reason chosen the least was because 'it was too far to use the other method'.  For primary school children the main reason is because it's the fastest too.  This was followed by 'is because it is healthy' and 'because it is good for the environment' and the least chosen reason 'is because the children cannot travel by any other mode'.\n",
    "But for secondary school children the main reason is different, the main reason 'is because the distance is too close to use other methods' with the other reasons chosen equally; with an except for 'unable to travel by other means', 'safety' and 'distance is too far'.  The number of respondents of secondary school parents was low so further anaylysis of these differences is not possible.\n",
    "\n",
    "#### 17.Resident_Islington + School_Islington : Respondents who live in Islington, is the school in Islington?\n",
    "The graph shows the respondents living in Islington and whether the respondents' children's schools are in Islington.  It can be seen that those who do not live in Islington, the majority of respondents' children's schools are not in Islington.  A small number of non-Islington residents have children's at school in Islington.  While Islington resident respondents' children's schools are entirely in Islington, none outside of Islington."
   ]
  },
  {
   "cell_type": "markdown",
   "id": "25aaf3cd",
   "metadata": {},
   "source": [
    "## Conclusions\n",
    "\n",
    "This survey report shows some parents dropping off and pickup kids in different ways.  I want to understand why parents chose their method of travel getting their children to school.  This in the context of being a mother who walks my 7 years old son into primary school and with a partner who cycles our daughter to nursey each weekday.\n",
    "\n",
    "The data from the survey was from respondents nearly wholly from younger nursery and primary aged children.  This reflects the context in which the survey was released and also spans my initial understanding of nursery and primary age children journeys each day. This framed some of the approach and range of the questionnaire from my own understanding though also with possible bias for the survey.\n",
    "\n",
    "The initial demographic questions of the survey reflected what we expected to find and helped to qualify some of the contex of the answers to the specific question in the survey.  These questions might also have explained any anomalies in some of the other answers were responses were not what we might easily have explained.\n",
    "\n",
    "The satisfaction of journeys to school with an analysis of how children travel  into the school were key to looking at how transport impacts the well-being of childrens and parents.  With nearly 68% of people satisfied with the journey to school and high levels of journeys made not using cars of public transport (5.75%) we can say that these means of travel bring higher utility than dependence on other methods of transport.  The close proximity of families to their children's school or nurseries (41.07% less than 1 mile) reflects both peoples view that walking and cycling (67.81%) are the best ways to travel considering distance as a reason for their chosen mode of transport (16.95%)\n",
    "\n",
    "Reasons for accompanying children into school may reference danger to children though also reflect a consensus that most of the children referenced in the survey are too young to travel on their own.  As to how much this consensus reflects the ages that children travel on their own, either in times past or how this compares in other countries, was considered in the survey questions.  So while the age at which child travel on their own could be compared with data from another time or country this was not a consideration.\n",
    "\n",
    "The survey noted that many parents (22.99%) did list car travel to school as a mode of transport.  This was higher than I expected though is understood to reflect that this is in some cases a transport option rather than the primary mode of transport.  The survey would be improved by looking to further question what the balance of these modes of transport were.  What the balance of these options were and perhaps in what circumstance people drove their children into school or whether they only every used one method.\n",
    "\n",
    "The survey gathers data that gave some details on the subject area of interested.  Were this acting as a pilot for a larger survey we would look to make some of the questioning more specific while still trying to maintain the concise nature of the questions and time it takes to respondents to answer.  We could then look to focus as much on the answers being given on the minority of parents exercise less healthy modes of transport into school."
   ]
  },
  {
   "cell_type": "markdown",
   "id": "22daf0a0",
   "metadata": {},
   "source": [
    "## References\n",
    "Pornpoj, P.(2020). Chapter 2 Data Collection and Data Exploration (Computational Science, M.5). Available at: https://sites.google.com/a/kanarat.ac.th/krusuthat/bth-thi-2-kar-keb-rwbrwm-khxmul-laea-sarwc-khxmul-withyakar-khanwn-m-5 (Accessed : 21 July 2021).\n",
    "\n",
    "Krooann, (2021). 2.1 Data Collection. Available at: https://sites.google.com/site/tecnologysci5/baeb-thdsxb-hlang-reiyn/2-1-kar-keb-rwbrwm-khxmul (Accessed : 21 July 2021).\n",
    "\n",
    "Web-based survey software, (2014). Survey question types and survey structure. Available at: https://www.analyticstool.com/survey-question-types-and-survey-structure/ (Accessed : 21 July 2021). "
   ]
  },
  {
   "cell_type": "markdown",
   "id": "09a7a142",
   "metadata": {},
   "source": [
    "## Appendices\n",
    "\n",
    "- Survey.pdf\n",
    "- results-for-parents-and.csv"
   ]
  },
  {
   "cell_type": "markdown",
   "id": "7920ccd0",
   "metadata": {
    "editable": false
   },
   "source": [
    "## Word Count\n",
    "\n",
    "The following code will count the number of words in Markdown cells. Code cells are not included.\n",
    "\n",
    "- `Main word count` is the number of words in the main body of the text, *excluding* references or appendices.\n",
    "- `References and appendices word count` is the number of words in any references or appendices.\n",
    "\n",
    "Only `Main word count` relates to the assignment word limit. There is no limit to the number of words that can be included in references or appendices. Please note that appendices should only be used to provide context or supporting information. *No marks will be directly awarded for material submitted in appendices*.\n",
    "\n",
    "Important:\n",
    "\n",
    "- Please do not modify the word count code!\n",
    "- To exclude references from your word count **you must** have a cell that starts with the text `## References`. Everything below this cell will not count towards the main word count.\n",
    "- If you are submitting additional material as appendices **you must** have a cell that starts with the text `## Appendices`. Everything below this cell will not count towards the main word count. If you do not have any appendices you can delete the `## Appendices` cell.\n",
    "- Code comments should only be used to explain details of the implementation, not for discussing your findings. All analysis commentary **must** be written in Markdown cells. *No marks will be awarded for analysis discussion submitted as comments in code cells*."
   ]
  },
  {
   "cell_type": "code",
   "execution_count": 1,
   "id": "4a0d931b",
   "metadata": {
    "editable": false,
    "tags": []
   },
   "outputs": [
    {
     "data": {
      "application/javascript": [
       "\n",
       "// Run this cell to update your word count.\n",
       "\n",
       "function wordcount() {\n",
       "    let wordCount = 0\n",
       "    let extraCount = 0\n",
       "    let mainBody = true\n",
       "\n",
       "    let cells = Jupyter.notebook.get_cells()\n",
       "    cells.forEach((cell) => {\n",
       "        if (cell.cell_type == 'markdown') {\n",
       "            let text = cell.get_text()\n",
       "            // Stop counting as main body when get to References or Appendices.\n",
       "            if (text.startsWith('## References') ||\n",
       "                text.startsWith('## Appendices')) {\n",
       "                mainBody = false\n",
       "            }\n",
       "            if (text.startsWith('## Word Count')) {\n",
       "                text = ''\n",
       "            }\n",
       "            if (text) {\n",
       "                let words = text.toLowerCase().match(/\\b[a-z\\d]+\\b/g)\n",
       "                if (words) {\n",
       "                    let cellCount = words.length\n",
       "                    if (mainBody) {\n",
       "                        wordCount += cellCount\n",
       "                    } else {\n",
       "                        extraCount += cellCount\n",
       "                    }\n",
       "                }\n",
       "            }\n",
       "        }\n",
       "    })\n",
       "    return [wordCount, extraCount]\n",
       "}\n",
       "\n",
       "let wc = wordcount()\n",
       "element.append(`Main word count: ${wc[0]} (References and appendices word count: ${wc[1]})`)\n"
      ],
      "text/plain": [
       "<IPython.core.display.Javascript object>"
      ]
     },
     "metadata": {},
     "output_type": "display_data"
    }
   ],
   "source": [
    "%%js\n",
    "\n",
    "// Run this cell to update your word count.\n",
    "\n",
    "function wordcount() {\n",
    "    let wordCount = 0\n",
    "    let extraCount = 0\n",
    "    let mainBody = true\n",
    "\n",
    "    let cells = Jupyter.notebook.get_cells()\n",
    "    cells.forEach((cell) => {\n",
    "        if (cell.cell_type == 'markdown') {\n",
    "            let text = cell.get_text()\n",
    "            // Stop counting as main body when get to References or Appendices.\n",
    "            if (text.startsWith('## References') ||\n",
    "                text.startsWith('## Appendices')) {\n",
    "                mainBody = false\n",
    "            }\n",
    "            if (text.startsWith('## Word Count')) {\n",
    "                text = ''\n",
    "            }\n",
    "            if (text) {\n",
    "                let words = text.toLowerCase().match(/\\b[a-z\\d]+\\b/g)\n",
    "                if (words) {\n",
    "                    let cellCount = words.length\n",
    "                    if (mainBody) {\n",
    "                        wordCount += cellCount\n",
    "                    } else {\n",
    "                        extraCount += cellCount\n",
    "                    }\n",
    "                }\n",
    "            }\n",
    "        }\n",
    "    })\n",
    "    return [wordCount, extraCount]\n",
    "}\n",
    "\n",
    "let wc = wordcount()\n",
    "element.append(`Main word count: ${wc[0]} (References and appendices word count: ${wc[1]})`)"
   ]
  },
  {
   "cell_type": "code",
   "execution_count": 4,
   "id": "139c5d17",
   "metadata": {},
   "outputs": [],
   "source": [
    "#Import pandas and alias it as pd for data management and analylsis\n",
    "import pandas as pd\n",
    "\n",
    "#Import numpy as np for calulations\n",
    "import numpy as np"
   ]
  },
  {
   "cell_type": "code",
   "execution_count": 6,
   "id": "da14da3a",
   "metadata": {},
   "outputs": [
    {
     "data": {
      "text/html": [
       "<div>\n",
       "<style scoped>\n",
       "    .dataframe tbody tr th:only-of-type {\n",
       "        vertical-align: middle;\n",
       "    }\n",
       "\n",
       "    .dataframe tbody tr th {\n",
       "        vertical-align: top;\n",
       "    }\n",
       "\n",
       "    .dataframe thead th {\n",
       "        text-align: right;\n",
       "    }\n",
       "</style>\n",
       "<table border=\"1\" class=\"dataframe\">\n",
       "  <thead>\n",
       "    <tr style=\"text-align: right;\">\n",
       "      <th></th>\n",
       "      <th>1. What is your gender?</th>\n",
       "      <th>2. What is your age?</th>\n",
       "      <th>3. Do you live in Islington Borough, London?</th>\n",
       "      <th>4. Is your Child's school / Nursery within Islington Borough, London?</th>\n",
       "      <th>5. Which age group are your children in? Tick ALL that apply</th>\n",
       "      <th>6. How far do you live from the school?</th>\n",
       "      <th>7. How long does it take for your children to get to school?</th>\n",
       "      <th>8. How do your children usually travel to school? Tick ALL that apply</th>\n",
       "      <th>9. Is the journey to school usually?</th>\n",
       "      <th>10. What are the main reasons for you and your children travelling this way to school? Tick ALL that apply</th>\n",
       "      <th>11. Do you accompany your children to school?</th>\n",
       "      <th>12. Reasons for accompany your children? Tick All that apply</th>\n",
       "      <th>13. How satisfied are you with the way your child currently travels to school?</th>\n",
       "    </tr>\n",
       "  </thead>\n",
       "  <tbody>\n",
       "    <tr>\n",
       "      <th>0</th>\n",
       "      <td>Female</td>\n",
       "      <td>30 - 39 years</td>\n",
       "      <td>Yes</td>\n",
       "      <td>Yes</td>\n",
       "      <td>Nursery / Pre-school / Day care,Primary School</td>\n",
       "      <td>Less than 0.3 miles</td>\n",
       "      <td>Less than 10 mins</td>\n",
       "      <td>Walking,Cycling</td>\n",
       "      <td>Specifically to take the children to school.</td>\n",
       "      <td>It is good for my child’s health and wellbeing...</td>\n",
       "      <td>Yes</td>\n",
       "      <td>Traffic danger,Convenient to accompany the child</td>\n",
       "      <td>Very satisfied</td>\n",
       "    </tr>\n",
       "    <tr>\n",
       "      <th>1</th>\n",
       "      <td>Female</td>\n",
       "      <td>40 - 49 years</td>\n",
       "      <td>Yes</td>\n",
       "      <td>Yes</td>\n",
       "      <td>Primary School,Secondary School</td>\n",
       "      <td>0.3 – 0.7 miles</td>\n",
       "      <td>10 - 30 mins</td>\n",
       "      <td>Walking</td>\n",
       "      <td>Specifically to take the children to school.</td>\n",
       "      <td>It is good for my child’s health and wellbeing...</td>\n",
       "      <td>Yes</td>\n",
       "      <td>Too young to travel alone,Traffic danger,Child...</td>\n",
       "      <td>Very satisfied</td>\n",
       "    </tr>\n",
       "  </tbody>\n",
       "</table>\n",
       "</div>"
      ],
      "text/plain": [
       "  1. What is your gender? 2. What is your age?  \\\n",
       "0                  Female        30 - 39 years   \n",
       "1                  Female        40 - 49 years   \n",
       "\n",
       "  3. Do you live in Islington Borough, London?  \\\n",
       "0                                          Yes   \n",
       "1                                          Yes   \n",
       "\n",
       "  4. Is your Child's school / Nursery within Islington Borough, London?  \\\n",
       "0                                                Yes                      \n",
       "1                                                Yes                      \n",
       "\n",
       "  5. Which age group are your children in? Tick ALL that apply  \\\n",
       "0     Nursery / Pre-school / Day care,Primary School             \n",
       "1                    Primary School,Secondary School             \n",
       "\n",
       "  6. How far do you live from the school?  \\\n",
       "0                     Less than 0.3 miles   \n",
       "1                         0.3 – 0.7 miles   \n",
       "\n",
       "  7. How long does it take for your children to get to school?  \\\n",
       "0                                  Less than 10 mins             \n",
       "1                                       10 - 30 mins             \n",
       "\n",
       "  8. How do your children usually travel to school? Tick ALL that apply  \\\n",
       "0                                    Walking,Cycling                      \n",
       "1                                            Walking                      \n",
       "\n",
       "           9. Is the journey to school usually?  \\\n",
       "0  Specifically to take the children to school.   \n",
       "1  Specifically to take the children to school.   \n",
       "\n",
       "  10. What are the main reasons for you and your children travelling this way to school? Tick ALL that apply  \\\n",
       "0  It is good for my child’s health and wellbeing...                                                           \n",
       "1  It is good for my child’s health and wellbeing...                                                           \n",
       "\n",
       "  11. Do you accompany your children to school?  \\\n",
       "0                                           Yes   \n",
       "1                                           Yes   \n",
       "\n",
       "  12. Reasons for accompany your children? Tick All that apply  \\\n",
       "0   Traffic danger,Convenient to accompany the child             \n",
       "1  Too young to travel alone,Traffic danger,Child...             \n",
       "\n",
       "  13. How satisfied are you with the way your child currently travels to school?  \n",
       "0                                     Very satisfied                              \n",
       "1                                     Very satisfied                              "
      ]
     },
     "execution_count": 6,
     "metadata": {},
     "output_type": "execute_result"
    }
   ],
   "source": [
    "#Read the csv file located in the path 'results-for-parents-and.csv' into a DataFrame named survey_df\n",
    "survey_df = pd.read_csv(\"results-for-parents-and.csv\")\n",
    "\n",
    "#Preview the first two rows of the resulting survey_df DataFrame \n",
    "survey_df.head(2)"
   ]
  },
  {
   "cell_type": "code",
   "execution_count": 7,
   "id": "406ca399",
   "metadata": {},
   "outputs": [],
   "source": [
    "#Create a column to define the order of the respondents\n",
    "survey_df['id'] = pd.DataFrame(range(1,57))"
   ]
  },
  {
   "cell_type": "code",
   "execution_count": 8,
   "id": "10a4d513",
   "metadata": {},
   "outputs": [
    {
     "data": {
      "text/html": [
       "<div>\n",
       "<style scoped>\n",
       "    .dataframe tbody tr th:only-of-type {\n",
       "        vertical-align: middle;\n",
       "    }\n",
       "\n",
       "    .dataframe tbody tr th {\n",
       "        vertical-align: top;\n",
       "    }\n",
       "\n",
       "    .dataframe thead th {\n",
       "        text-align: right;\n",
       "    }\n",
       "</style>\n",
       "<table border=\"1\" class=\"dataframe\">\n",
       "  <thead>\n",
       "    <tr style=\"text-align: right;\">\n",
       "      <th></th>\n",
       "      <th>1. What is your gender?</th>\n",
       "      <th>2. What is your age?</th>\n",
       "      <th>3. Do you live in Islington Borough, London?</th>\n",
       "      <th>4. Is your Child's school / Nursery within Islington Borough, London?</th>\n",
       "      <th>5. Which age group are your children in? Tick ALL that apply</th>\n",
       "      <th>6. How far do you live from the school?</th>\n",
       "      <th>7. How long does it take for your children to get to school?</th>\n",
       "      <th>8. How do your children usually travel to school? Tick ALL that apply</th>\n",
       "      <th>9. Is the journey to school usually?</th>\n",
       "      <th>10. What are the main reasons for you and your children travelling this way to school? Tick ALL that apply</th>\n",
       "      <th>11. Do you accompany your children to school?</th>\n",
       "      <th>12. Reasons for accompany your children? Tick All that apply</th>\n",
       "      <th>13. How satisfied are you with the way your child currently travels to school?</th>\n",
       "      <th>id</th>\n",
       "    </tr>\n",
       "  </thead>\n",
       "  <tbody>\n",
       "    <tr>\n",
       "      <th>0</th>\n",
       "      <td>Female</td>\n",
       "      <td>30 - 39 years</td>\n",
       "      <td>Yes</td>\n",
       "      <td>Yes</td>\n",
       "      <td>Nursery / Pre-school / Day care,Primary School</td>\n",
       "      <td>Less than 0.3 miles</td>\n",
       "      <td>Less than 10 mins</td>\n",
       "      <td>Walking,Cycling</td>\n",
       "      <td>Specifically to take the children to school.</td>\n",
       "      <td>It is good for my child’s health and wellbeing...</td>\n",
       "      <td>Yes</td>\n",
       "      <td>Traffic danger,Convenient to accompany the child</td>\n",
       "      <td>Very satisfied</td>\n",
       "      <td>1</td>\n",
       "    </tr>\n",
       "    <tr>\n",
       "      <th>1</th>\n",
       "      <td>Female</td>\n",
       "      <td>40 - 49 years</td>\n",
       "      <td>Yes</td>\n",
       "      <td>Yes</td>\n",
       "      <td>Primary School,Secondary School</td>\n",
       "      <td>0.3 – 0.7 miles</td>\n",
       "      <td>10 - 30 mins</td>\n",
       "      <td>Walking</td>\n",
       "      <td>Specifically to take the children to school.</td>\n",
       "      <td>It is good for my child’s health and wellbeing...</td>\n",
       "      <td>Yes</td>\n",
       "      <td>Too young to travel alone,Traffic danger,Child...</td>\n",
       "      <td>Very satisfied</td>\n",
       "      <td>2</td>\n",
       "    </tr>\n",
       "  </tbody>\n",
       "</table>\n",
       "</div>"
      ],
      "text/plain": [
       "  1. What is your gender? 2. What is your age?  \\\n",
       "0                  Female        30 - 39 years   \n",
       "1                  Female        40 - 49 years   \n",
       "\n",
       "  3. Do you live in Islington Borough, London?  \\\n",
       "0                                          Yes   \n",
       "1                                          Yes   \n",
       "\n",
       "  4. Is your Child's school / Nursery within Islington Borough, London?  \\\n",
       "0                                                Yes                      \n",
       "1                                                Yes                      \n",
       "\n",
       "  5. Which age group are your children in? Tick ALL that apply  \\\n",
       "0     Nursery / Pre-school / Day care,Primary School             \n",
       "1                    Primary School,Secondary School             \n",
       "\n",
       "  6. How far do you live from the school?  \\\n",
       "0                     Less than 0.3 miles   \n",
       "1                         0.3 – 0.7 miles   \n",
       "\n",
       "  7. How long does it take for your children to get to school?  \\\n",
       "0                                  Less than 10 mins             \n",
       "1                                       10 - 30 mins             \n",
       "\n",
       "  8. How do your children usually travel to school? Tick ALL that apply  \\\n",
       "0                                    Walking,Cycling                      \n",
       "1                                            Walking                      \n",
       "\n",
       "           9. Is the journey to school usually?  \\\n",
       "0  Specifically to take the children to school.   \n",
       "1  Specifically to take the children to school.   \n",
       "\n",
       "  10. What are the main reasons for you and your children travelling this way to school? Tick ALL that apply  \\\n",
       "0  It is good for my child’s health and wellbeing...                                                           \n",
       "1  It is good for my child’s health and wellbeing...                                                           \n",
       "\n",
       "  11. Do you accompany your children to school?  \\\n",
       "0                                           Yes   \n",
       "1                                           Yes   \n",
       "\n",
       "  12. Reasons for accompany your children? Tick All that apply  \\\n",
       "0   Traffic danger,Convenient to accompany the child             \n",
       "1  Too young to travel alone,Traffic danger,Child...             \n",
       "\n",
       "  13. How satisfied are you with the way your child currently travels to school?  \\\n",
       "0                                     Very satisfied                               \n",
       "1                                     Very satisfied                               \n",
       "\n",
       "   id  \n",
       "0   1  \n",
       "1   2  "
      ]
     },
     "execution_count": 8,
     "metadata": {},
     "output_type": "execute_result"
    }
   ],
   "source": [
    "#Preview the first two rows of the resulting survey_df DataFrame \n",
    "survey_df.head(2)"
   ]
  },
  {
   "cell_type": "code",
   "execution_count": 9,
   "id": "e3beaf1c",
   "metadata": {},
   "outputs": [
    {
     "data": {
      "text/plain": [
       "Index(['1. What is your gender?', '2. What is your age?',\n",
       "       '3. Do you live in Islington Borough, London?',\n",
       "       '4. Is your Child's school / Nursery within Islington Borough, London?',\n",
       "       '5. Which age group are your children in? Tick ALL that apply',\n",
       "       '6. How far do you live from the school?',\n",
       "       '7. How long does it take for your children to get to school?',\n",
       "       '8. How do your children usually travel to school? Tick ALL that apply',\n",
       "       '9. Is the journey to school usually?',\n",
       "       '10. What are the main reasons for you and your children travelling this way to school? Tick ALL that apply',\n",
       "       '11. Do you accompany your children to school?',\n",
       "       '12. Reasons for accompany your children? Tick All that apply',\n",
       "       '13. How satisfied are you with the way your child currently travels to school?',\n",
       "       'id'],\n",
       "      dtype='object')"
      ]
     },
     "execution_count": 9,
     "metadata": {},
     "output_type": "execute_result"
    }
   ],
   "source": [
    "#Show column name\n",
    "#To display variables or questions in each columns\n",
    "survey_df.columns"
   ]
  },
  {
   "cell_type": "code",
   "execution_count": 10,
   "id": "7af89765",
   "metadata": {},
   "outputs": [
    {
     "name": "stdout",
     "output_type": "stream",
     "text": [
      "columns={\n",
      " \"1. What is your gender?\":\"Gender\",\n",
      " \"2. What is your age?\":\"Age\",\n",
      " \"3. Do you live in Islington Borough, London?\":\"Resident_Islington\",\n",
      " \"4. Is your Child's school / Nursery within Islington Borough, London?\":\"School_Islington\",\n",
      " \"5. Which age group are your children in? Tick ALL that apply\":\"Children_Age_Group\",\n",
      " \"6. How far do you live from the school?\":\"Distance\",\n",
      " \"7. How long does it take for your children to get to school?\":\"Travel_Time\",\n",
      " \"8. How do your children usually travel to school? Tick ALL that apply\":\"Mode_of_Travel\",\n",
      " \"9. Is the journey to school usually?\":\"Purpose_of_Journey\",\n",
      " \"10. What are the main reasons for you and your children travelling this way to school? Tick ALL that apply\":\"Reasons_Mode_of_Travel\",\n",
      " \"11. Do you accompany your children to school?\":\"Accompanying_children\",\n",
      " \"12. Reasons for accompany your children? Tick All that apply\":\"Reasons_Accompanying\",\n",
      " \"13. How satisfied are you with the way your child currently travels to school?\":\"Satisfaction\"}\n"
     ]
    }
   ],
   "source": [
    "#Rename columns to make them easier to use\n",
    "\n",
    "#Step1 create dictionary\n",
    "newname = [\"Gender\",\"Age\",                            #Specify the name of the new column that wants to change.\n",
    "           \"Resident_Islington\",\n",
    "           \"School_Islington\",\n",
    "           \"Children_Age_Group\",\n",
    "           \"Distance\",\"Travel_Time\",\n",
    "           \"Mode_of_Travel\",\"Purpose_of_Journey\",\n",
    "           \"Reasons_Mode_of_Travel\",\n",
    "           \"Accompanying_children\",\n",
    "           \"Reasons_Accompanying\",\n",
    "           \"Satisfaction\"]\n",
    "k = 0\n",
    "str = 'columns={'\n",
    "for i in range(0,13):\n",
    "    str = str+'\\n \"{}\":\"{}\",'.format(survey_df.columns[i],newname[k])\n",
    "    k=k+1\n",
    "\n",
    "print(str[:-1] + '}')\n",
    "\n",
    "\n",
    "### Renaming can be difficult to create a dictionary especially with a large number of columns, so I use the for loop method.\n",
    "#To help create a dictionary to reduce time and errors."
   ]
  },
  {
   "cell_type": "code",
   "execution_count": 11,
   "id": "0de016f2",
   "metadata": {},
   "outputs": [],
   "source": [
    "###Rename columns to make them easier to use.\n",
    "#Step2 Rename by variable's dictionary with the rename function\n",
    "#and replace the existing column with the inplace function.\n",
    "\n",
    "survey_df.rename(columns={\n",
    " \"1. What is your gender?\":\"Gender\",\n",
    " \"2. What is your age?\":\"Age\",\n",
    " \"3. Do you live in Islington Borough, London?\":\"Resident_Islington\",\n",
    " \"4. Is your Child's school / Nursery within Islington Borough, London?\":\"School_Islington\",\n",
    " \"5. Which age group are your children in? Tick ALL that apply\":\"Children_Age_Group\",\n",
    " \"6. How far do you live from the school?\":\"Distance\",\n",
    " \"7. How long does it take for your children to get to school?\":\"Travel_Time\",\n",
    " \"8. How do your children usually travel to school? Tick ALL that apply\":\"Mode_of_Travel\",\n",
    " \"9. Is the journey to school usually?\":\"Purpose_of_Journey\",\n",
    " \"10. What are the main reasons for you and your children travelling this way to school? Tick ALL that apply\":\"Reasons_Mode_of_Travel\",\n",
    " \"11. Do you accompany your children to school?\":\"Accompanying_children\",\n",
    " \"12. Reasons for accompany your children? Tick All that apply\":\"Reasons_Accompanying\",\n",
    " \"13. How satisfied are you with the way your child currently travels to school?\":\"Satisfaction\"}, inplace=True)"
   ]
  },
  {
   "cell_type": "code",
   "execution_count": 12,
   "id": "fab0769e",
   "metadata": {},
   "outputs": [
    {
     "data": {
      "text/plain": [
       "Index(['Gender', 'Age', 'Resident_Islington', 'School_Islington',\n",
       "       'Children_Age_Group', 'Distance', 'Travel_Time', 'Mode_of_Travel',\n",
       "       'Purpose_of_Journey', 'Reasons_Mode_of_Travel', 'Accompanying_children',\n",
       "       'Reasons_Accompanying', 'Satisfaction', 'id'],\n",
       "      dtype='object')"
      ]
     },
     "execution_count": 12,
     "metadata": {},
     "output_type": "execute_result"
    }
   ],
   "source": [
    "###Check the column or variable name again.\n",
    "survey_df.columns"
   ]
  },
  {
   "cell_type": "code",
   "execution_count": 13,
   "id": "90dab447",
   "metadata": {},
   "outputs": [
    {
     "data": {
      "text/plain": [
       "Gender                    object\n",
       "Age                       object\n",
       "Resident_Islington        object\n",
       "School_Islington          object\n",
       "Children_Age_Group        object\n",
       "Distance                  object\n",
       "Travel_Time               object\n",
       "Mode_of_Travel            object\n",
       "Purpose_of_Journey        object\n",
       "Reasons_Mode_of_Travel    object\n",
       "Accompanying_children     object\n",
       "Reasons_Accompanying      object\n",
       "Satisfaction              object\n",
       "id                         int64\n",
       "dtype: object"
      ]
     },
     "execution_count": 13,
     "metadata": {},
     "output_type": "execute_result"
    }
   ],
   "source": [
    "###Check the type of information\n",
    "survey_df.dtypes\n",
    "\n",
    "#int64 is an integer data type."
   ]
  },
  {
   "cell_type": "code",
   "execution_count": 14,
   "id": "a00dc18e",
   "metadata": {},
   "outputs": [],
   "source": [
    "###Define a new data type.\n",
    "\n",
    "survey_df = survey_df.astype({'Gender':'category',\n",
    "                                      'Age':'category',\n",
    "                                     'Resident_Islington':'category',\n",
    "                                     'School_Islington':'category',\n",
    "                                     'Children_Age_Group':'category',\n",
    "                                     'Distance':'category',\n",
    "                                     'Travel_Time':'category',\n",
    "                                     'Mode_of_Travel':'category',\n",
    "                                     'Purpose_of_Journey':'category',\n",
    "                                     'Reasons_Mode_of_Travel':'category',\n",
    "                                     'Accompanying_children':'category',\n",
    "                                      'Reasons_Accompanying':'category'\n",
    "                                     })\n",
    "\n",
    "\n",
    "### category is the categorical data"
   ]
  },
  {
   "cell_type": "code",
   "execution_count": 15,
   "id": "1c985be4",
   "metadata": {},
   "outputs": [
    {
     "data": {
      "text/plain": [
       "Gender                    category\n",
       "Age                       category\n",
       "Resident_Islington        category\n",
       "School_Islington          category\n",
       "Children_Age_Group        category\n",
       "Distance                  category\n",
       "Travel_Time               category\n",
       "Mode_of_Travel            category\n",
       "Purpose_of_Journey        category\n",
       "Reasons_Mode_of_Travel    category\n",
       "Accompanying_children     category\n",
       "Reasons_Accompanying      category\n",
       "Satisfaction                object\n",
       "id                           int64\n",
       "dtype: object"
      ]
     },
     "execution_count": 15,
     "metadata": {},
     "output_type": "execute_result"
    }
   ],
   "source": [
    "##Double check the data type.\n",
    "survey_df.dtypes"
   ]
  },
  {
   "cell_type": "code",
   "execution_count": 16,
   "id": "d7b6eac5",
   "metadata": {},
   "outputs": [
    {
     "name": "stdout",
     "output_type": "stream",
     "text": [
      "<class 'pandas.core.frame.DataFrame'>\n",
      "RangeIndex: 56 entries, 0 to 55\n",
      "Data columns (total 14 columns):\n",
      " #   Column                  Non-Null Count  Dtype   \n",
      "---  ------                  --------------  -----   \n",
      " 0   Gender                  54 non-null     category\n",
      " 1   Age                     56 non-null     category\n",
      " 2   Resident_Islington      56 non-null     category\n",
      " 3   School_Islington        56 non-null     category\n",
      " 4   Children_Age_Group      50 non-null     category\n",
      " 5   Distance                51 non-null     category\n",
      " 6   Travel_Time             51 non-null     category\n",
      " 7   Mode_of_Travel          50 non-null     category\n",
      " 8   Purpose_of_Journey      51 non-null     category\n",
      " 9   Reasons_Mode_of_Travel  51 non-null     category\n",
      " 10  Accompanying_children   50 non-null     category\n",
      " 11  Reasons_Accompanying    51 non-null     category\n",
      " 12  Satisfaction            50 non-null     object  \n",
      " 13  id                      56 non-null     int64   \n",
      "dtypes: category(12), int64(1), object(1)\n",
      "memory usage: 4.9+ KB\n"
     ]
    }
   ],
   "source": [
    "###Overview data, showing the amount of data excluding missing values and type of data in each column\n",
    "survey_df.info()"
   ]
  },
  {
   "cell_type": "code",
   "execution_count": 17,
   "id": "36066790",
   "metadata": {},
   "outputs": [
    {
     "data": {
      "text/plain": [
       "(56, 14)"
      ]
     },
     "execution_count": 17,
     "metadata": {},
     "output_type": "execute_result"
    }
   ],
   "source": [
    "###Check the number of people who responded by looking at the number of rows and columns.\n",
    "survey_df.shape"
   ]
  },
  {
   "cell_type": "code",
   "execution_count": 18,
   "id": "ffd4c4fa",
   "metadata": {},
   "outputs": [
    {
     "data": {
      "text/plain": [
       "Gender                    2\n",
       "Age                       0\n",
       "Resident_Islington        0\n",
       "School_Islington          0\n",
       "Children_Age_Group        6\n",
       "Distance                  5\n",
       "Travel_Time               5\n",
       "Mode_of_Travel            6\n",
       "Purpose_of_Journey        5\n",
       "Reasons_Mode_of_Travel    5\n",
       "Accompanying_children     6\n",
       "Reasons_Accompanying      5\n",
       "Satisfaction              6\n",
       "id                        0\n",
       "dtype: int64"
      ]
     },
     "execution_count": 18,
     "metadata": {},
     "output_type": "execute_result"
    }
   ],
   "source": [
    "###Check if missing values information for each column\n",
    "survey_df.isnull().sum()"
   ]
  },
  {
   "cell_type": "code",
   "execution_count": 19,
   "id": "545332b2",
   "metadata": {},
   "outputs": [
    {
     "name": "stdout",
     "output_type": "stream",
     "text": [
      "total cells : 784\n",
      "total missing values : 51\n",
      "missing : 6.505102040816327 %\n"
     ]
    }
   ],
   "source": [
    "###Checks the percentage of missing data compared to the total number of data\n",
    "\n",
    "missing_count = survey_df.isnull().sum()             #count missing values data for each column\n",
    "total_cells = np.product(survey_df.shape)            #count the total number of rows\n",
    "\n",
    "total_missing = missing_count.sum()                  #count all missing data\n",
    "missing_percent = total_missing /total_cells *100    #the percentage of missing values\n",
    "\n",
    "print('total cells : {}'.format(total_cells))\n",
    "print('total missing values : {}'.format(total_missing))\n",
    "print('missing : {} %'.format(missing_percent))"
   ]
  },
  {
   "cell_type": "code",
   "execution_count": 20,
   "id": "cf4772b0",
   "metadata": {},
   "outputs": [],
   "source": [
    "###Replace missing values with the previous value ('pad')\n",
    "survey_df = survey_df.fillna(method='pad')"
   ]
  },
  {
   "cell_type": "code",
   "execution_count": 21,
   "id": "7db10e2f",
   "metadata": {},
   "outputs": [
    {
     "data": {
      "text/plain": [
       "Gender                    0\n",
       "Age                       0\n",
       "Resident_Islington        0\n",
       "School_Islington          0\n",
       "Children_Age_Group        0\n",
       "Distance                  0\n",
       "Travel_Time               0\n",
       "Mode_of_Travel            0\n",
       "Purpose_of_Journey        0\n",
       "Reasons_Mode_of_Travel    0\n",
       "Accompanying_children     0\n",
       "Reasons_Accompanying      0\n",
       "Satisfaction              0\n",
       "id                        0\n",
       "dtype: int64"
      ]
     },
     "execution_count": 21,
     "metadata": {},
     "output_type": "execute_result"
    }
   ],
   "source": [
    "###Re-check if missing values \n",
    "survey_df.isnull().sum()"
   ]
  },
  {
   "cell_type": "code",
   "execution_count": 22,
   "id": "adda2c0b",
   "metadata": {},
   "outputs": [
    {
     "data": {
      "text/plain": [
       "CategoricalDtype(categories=['20 - 29 years', '30 - 39 years', '40 - 49 years',\n",
       "                  '50 - 65 years'],\n",
       ", ordered=True)"
      ]
     },
     "execution_count": 22,
     "metadata": {},
     "output_type": "execute_result"
    }
   ],
   "source": [
    "# Set the data types : Ordinal (Ordered categorical)\n",
    "#The age range is sequential, it is designated as ordinal categorical\n",
    "\n",
    "#Set age levels\n",
    "Age_level = ['20 - 29 years','30 - 39 years', '40 - 49 years', '50 - 65 years']\n",
    "\n",
    "#Set the correct data type\n",
    "#Set the data to be sorted by a list of Age_levels\n",
    "survey_df['Age'] = survey_df['Age'].astype(pd.CategoricalDtype(ordered = True, categories = Age_level ))\n",
    "\n",
    "#Inspect dtype\n",
    "#Check if the data can be lined up\n",
    "survey_df['Age'].dtypes"
   ]
  },
  {
   "cell_type": "code",
   "execution_count": 23,
   "id": "774930c9",
   "metadata": {},
   "outputs": [
    {
     "data": {
      "text/plain": [
       "CategoricalDtype(categories=['Less than 0.3 miles', '0.3 – 0.7 miles', '0.7 - 1 miles',\n",
       "                  'More than 1miles'],\n",
       ", ordered=True)"
      ]
     },
     "execution_count": 23,
     "metadata": {},
     "output_type": "execute_result"
    }
   ],
   "source": [
    "#Set the data types : Ordinal (Ordered categorical)\n",
    "#Distance range data is sortable, it is designated as ordinal categorical\n",
    "\n",
    "#set distance levels\n",
    "Distance_level = ['Less than 0.3 miles', '0.3 – 0.7 miles', '0.7 - 1 miles', 'More than 1miles']\n",
    "\n",
    "#Set the correct data type\n",
    "#Set data to be sorted by distance_level list\n",
    "survey_df['Distance'] = survey_df['Distance'].astype(pd.CategoricalDtype(ordered = True, categories = Distance_level))\n",
    "\n",
    "#Inspect dtype\n",
    "#Check if the data can be lined up\n",
    "survey_df['Distance'].dtypes"
   ]
  },
  {
   "cell_type": "code",
   "execution_count": 24,
   "id": "05f96f0f",
   "metadata": {},
   "outputs": [
    {
     "data": {
      "text/plain": [
       "CategoricalDtype(categories=['Less than 10 mins', '10 - 30 mins', '30 mins - 1 hrs',\n",
       "                  'More than 1 hrs'],\n",
       ", ordered=True)"
      ]
     },
     "execution_count": 24,
     "metadata": {},
     "output_type": "execute_result"
    }
   ],
   "source": [
    "#Set the data types : Ordinal (Ordered categorical)\n",
    "#The travel time is sequential, it is designated as ordinal categorical\n",
    "\n",
    "#Set travel time levels\n",
    "Travel_Time_level = ['Less than 10 mins', '10 - 30 mins', '30 mins - 1 hrs', 'More than 1 hrs']\n",
    "\n",
    "#Set the correct data type\n",
    "#Set the data to be sorted by a list of Travel_Time_level\n",
    "survey_df['Travel_Time'] = survey_df['Travel_Time'].astype(pd.CategoricalDtype(ordered = True, categories = Travel_Time_level))\n",
    "\n",
    "#Inspect dtype\n",
    "#Check if the data can be lined up\n",
    "survey_df['Travel_Time'].dtypes"
   ]
  },
  {
   "cell_type": "code",
   "execution_count": 25,
   "id": "06b86543",
   "metadata": {},
   "outputs": [
    {
     "data": {
      "text/plain": [
       "CategoricalDtype(categories=['Very unsatisfied', 'Fairly unsatisfied', 'Neither / Nor',\n",
       "                  'Fairly satisfied', 'Very satisfied'],\n",
       ", ordered=True)"
      ]
     },
     "execution_count": 25,
     "metadata": {},
     "output_type": "execute_result"
    }
   ],
   "source": [
    "# Set the data types : Ordinal (Ordered categorical)\n",
    "#The Satisfaction is sequential, it is designated as ordinal categorical\n",
    "\n",
    "#Set Satisfaction levels\n",
    "Satisfaction_level = ['Very unsatisfied', 'Fairly unsatisfied', 'Neither / Nor', 'Fairly satisfied', 'Very satisfied']\n",
    "\n",
    "#Set the correct data type\n",
    "#Set the data to be sorted by a list of Satisfaction level\n",
    "survey_df['Satisfaction'] = survey_df['Satisfaction'].astype(pd.CategoricalDtype(ordered = True, categories = Satisfaction_level))\n",
    "\n",
    "#Inspect dtype\n",
    "#Check if the data can be lined up\n",
    "survey_df['Satisfaction'].dtypes"
   ]
  },
  {
   "cell_type": "code",
   "execution_count": 26,
   "id": "9aa130bd",
   "metadata": {},
   "outputs": [
    {
     "data": {
      "text/html": [
       "<div>\n",
       "<style scoped>\n",
       "    .dataframe tbody tr th:only-of-type {\n",
       "        vertical-align: middle;\n",
       "    }\n",
       "\n",
       "    .dataframe tbody tr th {\n",
       "        vertical-align: top;\n",
       "    }\n",
       "\n",
       "    .dataframe thead th {\n",
       "        text-align: right;\n",
       "    }\n",
       "</style>\n",
       "<table border=\"1\" class=\"dataframe\">\n",
       "  <thead>\n",
       "    <tr style=\"text-align: right;\">\n",
       "      <th></th>\n",
       "      <th>Gender</th>\n",
       "      <th>Age</th>\n",
       "      <th>Resident_Islington</th>\n",
       "      <th>School_Islington</th>\n",
       "      <th>Children_Age_Group</th>\n",
       "      <th>Distance</th>\n",
       "      <th>Travel_Time</th>\n",
       "      <th>Mode_of_Travel</th>\n",
       "      <th>Purpose_of_Journey</th>\n",
       "      <th>Reasons_Mode_of_Travel</th>\n",
       "      <th>Accompanying_children</th>\n",
       "      <th>Reasons_Accompanying</th>\n",
       "      <th>Satisfaction</th>\n",
       "    </tr>\n",
       "  </thead>\n",
       "  <tbody>\n",
       "    <tr>\n",
       "      <th>count</th>\n",
       "      <td>56</td>\n",
       "      <td>56</td>\n",
       "      <td>56</td>\n",
       "      <td>56</td>\n",
       "      <td>56</td>\n",
       "      <td>56</td>\n",
       "      <td>56</td>\n",
       "      <td>56</td>\n",
       "      <td>56</td>\n",
       "      <td>56</td>\n",
       "      <td>56</td>\n",
       "      <td>56</td>\n",
       "      <td>56</td>\n",
       "    </tr>\n",
       "    <tr>\n",
       "      <th>unique</th>\n",
       "      <td>2</td>\n",
       "      <td>4</td>\n",
       "      <td>2</td>\n",
       "      <td>2</td>\n",
       "      <td>5</td>\n",
       "      <td>4</td>\n",
       "      <td>4</td>\n",
       "      <td>9</td>\n",
       "      <td>2</td>\n",
       "      <td>25</td>\n",
       "      <td>2</td>\n",
       "      <td>23</td>\n",
       "      <td>5</td>\n",
       "    </tr>\n",
       "    <tr>\n",
       "      <th>top</th>\n",
       "      <td>Female</td>\n",
       "      <td>30 - 39 years</td>\n",
       "      <td>Yes</td>\n",
       "      <td>Yes</td>\n",
       "      <td>Primary School</td>\n",
       "      <td>Less than 0.3 miles</td>\n",
       "      <td>Less than 10 mins</td>\n",
       "      <td>Walking</td>\n",
       "      <td>Specifically to take the children to school.</td>\n",
       "      <td>The distance is too short to use any other mode</td>\n",
       "      <td>Yes</td>\n",
       "      <td>Too young to travel alone</td>\n",
       "      <td>Very satisfied</td>\n",
       "    </tr>\n",
       "    <tr>\n",
       "      <th>freq</th>\n",
       "      <td>35</td>\n",
       "      <td>23</td>\n",
       "      <td>30</td>\n",
       "      <td>32</td>\n",
       "      <td>25</td>\n",
       "      <td>23</td>\n",
       "      <td>31</td>\n",
       "      <td>21</td>\n",
       "      <td>47</td>\n",
       "      <td>6</td>\n",
       "      <td>52</td>\n",
       "      <td>19</td>\n",
       "      <td>30</td>\n",
       "    </tr>\n",
       "  </tbody>\n",
       "</table>\n",
       "</div>"
      ],
      "text/plain": [
       "        Gender            Age Resident_Islington School_Islington  \\\n",
       "count       56             56                 56               56   \n",
       "unique       2              4                  2                2   \n",
       "top     Female  30 - 39 years                Yes              Yes   \n",
       "freq        35             23                 30               32   \n",
       "\n",
       "       Children_Age_Group             Distance        Travel_Time  \\\n",
       "count                  56                   56                 56   \n",
       "unique                  5                    4                  4   \n",
       "top        Primary School  Less than 0.3 miles  Less than 10 mins   \n",
       "freq                   25                   23                 31   \n",
       "\n",
       "       Mode_of_Travel                            Purpose_of_Journey  \\\n",
       "count              56                                            56   \n",
       "unique              9                                             2   \n",
       "top           Walking  Specifically to take the children to school.   \n",
       "freq               21                                            47   \n",
       "\n",
       "                                 Reasons_Mode_of_Travel Accompanying_children  \\\n",
       "count                                                56                    56   \n",
       "unique                                               25                     2   \n",
       "top     The distance is too short to use any other mode                   Yes   \n",
       "freq                                                  6                    52   \n",
       "\n",
       "             Reasons_Accompanying    Satisfaction  \n",
       "count                          56              56  \n",
       "unique                         23               5  \n",
       "top     Too young to travel alone  Very satisfied  \n",
       "freq                           19              30  "
      ]
     },
     "execution_count": 26,
     "metadata": {},
     "output_type": "execute_result"
    }
   ],
   "source": [
    "## Expolation data\n",
    "###View descriptive statistics using the describe function\n",
    "\n",
    "survey_df.describe(include=['category','object'])   #include = select data type"
   ]
  },
  {
   "cell_type": "code",
   "execution_count": 27,
   "id": "9594682f",
   "metadata": {},
   "outputs": [],
   "source": [
    "##Data visualization\n",
    "\n",
    "#matplotlib library allows to display data in various graph formats\n",
    "import matplotlib.pyplot as plt\n",
    "\n",
    "#seaborn library allows to display data in various graph formats\n",
    "import seaborn as sns"
   ]
  },
  {
   "cell_type": "markdown",
   "id": "92955754",
   "metadata": {},
   "source": [
    "### 1.Gender"
   ]
  },
  {
   "cell_type": "code",
   "execution_count": 29,
   "id": "dbc388f7",
   "metadata": {},
   "outputs": [
    {
     "data": {
      "text/html": [
       "<div>\n",
       "<style scoped>\n",
       "    .dataframe tbody tr th:only-of-type {\n",
       "        vertical-align: middle;\n",
       "    }\n",
       "\n",
       "    .dataframe tbody tr th {\n",
       "        vertical-align: top;\n",
       "    }\n",
       "\n",
       "    .dataframe thead th {\n",
       "        text-align: right;\n",
       "    }\n",
       "</style>\n",
       "<table border=\"1\" class=\"dataframe\">\n",
       "  <thead>\n",
       "    <tr style=\"text-align: right;\">\n",
       "      <th></th>\n",
       "      <th>Gender</th>\n",
       "    </tr>\n",
       "  </thead>\n",
       "  <tbody>\n",
       "    <tr>\n",
       "      <th>Female</th>\n",
       "      <td>35</td>\n",
       "    </tr>\n",
       "    <tr>\n",
       "      <th>Male</th>\n",
       "      <td>21</td>\n",
       "    </tr>\n",
       "  </tbody>\n",
       "</table>\n",
       "</div>"
      ],
      "text/plain": [
       "        Gender\n",
       "Female      35\n",
       "Male        21"
      ]
     },
     "execution_count": 29,
     "metadata": {},
     "output_type": "execute_result"
    }
   ],
   "source": [
    "#Count the frequency of data in Gender variables\n",
    "gender = survey_df.Gender.value_counts().to_frame()\n",
    "gender"
   ]
  },
  {
   "cell_type": "code",
   "execution_count": 30,
   "id": "41b1f328",
   "metadata": {},
   "outputs": [
    {
     "data": {
      "image/png": "[encoded data removed]",
      "text/plain": [
       "<Figure size 432x432 with 1 Axes>"
      ]
     },
     "metadata": {},
     "output_type": "display_data"
    }
   ],
   "source": [
    "#Take the frequency data to create a pie graph\n",
    "gender_count = survey_df.Gender.value_counts()             #Count the number of Gender\n",
    "plt.figure(figsize = (6,6))                                #Set the size of the diagram to 6*6\n",
    "plt.pie(gender_count, labels = gender_count.index,              \n",
    "        autopct='%.1f%%',                                  #autopct / set the decimal \n",
    "        startangle = 90)                                   #startangel/Set the starting point of the pie chart at 90 degrees\n",
    "\n",
    "plt.title('What is your gender?')                          #set the title of the graph\n",
    "plt.show()"
   ]
  },
  {
   "cell_type": "markdown",
   "id": "a3c0812c",
   "metadata": {},
   "source": [
    "This pie graph shows that of all the parents who responded to the survey there more females than males, representing 62.5 percent of the total surveyed population."
   ]
  },
  {
   "cell_type": "markdown",
   "id": "d5cbd4db",
   "metadata": {},
   "source": [
    "### 2. Age"
   ]
  },
  {
   "cell_type": "code",
   "execution_count": 31,
   "id": "0c230686",
   "metadata": {},
   "outputs": [
    {
     "data": {
      "text/html": [
       "<div>\n",
       "<style scoped>\n",
       "    .dataframe tbody tr th:only-of-type {\n",
       "        vertical-align: middle;\n",
       "    }\n",
       "\n",
       "    .dataframe tbody tr th {\n",
       "        vertical-align: top;\n",
       "    }\n",
       "\n",
       "    .dataframe thead th {\n",
       "        text-align: right;\n",
       "    }\n",
       "</style>\n",
       "<table border=\"1\" class=\"dataframe\">\n",
       "  <thead>\n",
       "    <tr style=\"text-align: right;\">\n",
       "      <th></th>\n",
       "      <th>Age</th>\n",
       "    </tr>\n",
       "  </thead>\n",
       "  <tbody>\n",
       "    <tr>\n",
       "      <th>30 - 39 years</th>\n",
       "      <td>23</td>\n",
       "    </tr>\n",
       "    <tr>\n",
       "      <th>40 - 49 years</th>\n",
       "      <td>23</td>\n",
       "    </tr>\n",
       "    <tr>\n",
       "      <th>50 - 65 years</th>\n",
       "      <td>6</td>\n",
       "    </tr>\n",
       "    <tr>\n",
       "      <th>20 - 29 years</th>\n",
       "      <td>4</td>\n",
       "    </tr>\n",
       "  </tbody>\n",
       "</table>\n",
       "</div>"
      ],
      "text/plain": [
       "               Age\n",
       "30 - 39 years   23\n",
       "40 - 49 years   23\n",
       "50 - 65 years    6\n",
       "20 - 29 years    4"
      ]
     },
     "execution_count": 31,
     "metadata": {},
     "output_type": "execute_result"
    }
   ],
   "source": [
    "#Count the frequency of data in Age variables\n",
    "age_count = survey_df.Age.value_counts().to_frame()\n",
    "age_count"
   ]
  },
  {
   "cell_type": "code",
   "execution_count": 32,
   "id": "cb81ae28",
   "metadata": {},
   "outputs": [
    {
     "name": "stderr",
     "output_type": "stream",
     "text": [
      "/Users/pichananobrien/opt/anaconda3/lib/python3.8/site-packages/seaborn/_decorators.py:36: FutureWarning: Pass the following variable as a keyword arg: x. From version 0.12, the only valid positional argument will be `data`, and passing other arguments without an explicit keyword will result in an error or misinterpretation.\n",
      "  warnings.warn(\n"
     ]
    },
    {
     "data": {
      "image/png": "[encoded data removed]",
      "text/plain": [
       "<Figure size 432x432 with 1 Axes>"
      ]
     },
     "metadata": {
      "needs_background": "light"
     },
     "output_type": "display_data"
    }
   ],
   "source": [
    "#Take the frequency data to create a bar graph\n",
    "plt.figure(figsize=(6,6))                          #set the size of the diagram to 6*6\n",
    "sns.countplot(survey_df.Age)                       #plot grapg ysing seaborn library \n",
    "plt.title('What is your age?');                    #set the title of the graph"
   ]
  },
  {
   "cell_type": "markdown",
   "id": "6798d51d",
   "metadata": {},
   "source": [
    "\n",
    "The bar graph shows that of all the parents who responded to the survey most were in the age range 40-49years and 30-39 years with same number of respondents, 23 each.  Next most were in the range 50-65 years and then lastly those of 20-29 years."
   ]
  },
  {
   "cell_type": "markdown",
   "id": "fe832036",
   "metadata": {},
   "source": [
    "### 3.Resident in Islington"
   ]
  },
  {
   "cell_type": "code",
   "execution_count": 33,
   "id": "5cb72e9e",
   "metadata": {},
   "outputs": [
    {
     "data": {
      "text/html": [
       "<div>\n",
       "<style scoped>\n",
       "    .dataframe tbody tr th:only-of-type {\n",
       "        vertical-align: middle;\n",
       "    }\n",
       "\n",
       "    .dataframe tbody tr th {\n",
       "        vertical-align: top;\n",
       "    }\n",
       "\n",
       "    .dataframe thead th {\n",
       "        text-align: right;\n",
       "    }\n",
       "</style>\n",
       "<table border=\"1\" class=\"dataframe\">\n",
       "  <thead>\n",
       "    <tr style=\"text-align: right;\">\n",
       "      <th></th>\n",
       "      <th>Resident_Islington</th>\n",
       "    </tr>\n",
       "  </thead>\n",
       "  <tbody>\n",
       "    <tr>\n",
       "      <th>Yes</th>\n",
       "      <td>30</td>\n",
       "    </tr>\n",
       "    <tr>\n",
       "      <th>No</th>\n",
       "      <td>26</td>\n",
       "    </tr>\n",
       "  </tbody>\n",
       "</table>\n",
       "</div>"
      ],
      "text/plain": [
       "     Resident_Islington\n",
       "Yes                  30\n",
       "No                   26"
      ]
     },
     "execution_count": 33,
     "metadata": {},
     "output_type": "execute_result"
    }
   ],
   "source": [
    "#Count the frequency of data in Resident in Islington variables\n",
    "resident = survey_df.Resident_Islington.value_counts().to_frame()\n",
    "resident"
   ]
  },
  {
   "cell_type": "code",
   "execution_count": 34,
   "id": "e02b4418",
   "metadata": {},
   "outputs": [
    {
     "data": {
      "image/png": "[encoded data removed]",
      "text/plain": [
       "<Figure size 432x432 with 1 Axes>"
      ]
     },
     "metadata": {},
     "output_type": "display_data"
    }
   ],
   "source": [
    "#Take the frequency data to create a pie graph\n",
    "resident_count = survey_df.Resident_Islington.value_counts()\n",
    "plt.figure(figsize = (6,6))                                        #set the size of the diagram to 6*6       \n",
    "plt.pie(resident_count, labels = resident_count.index,\n",
    "        autopct='%.1f%%',                                          #autopct / set the decimal                                     \n",
    "        startangle = 90)                                           #startangel/Set the starting point of the pie chart at 90 degrees\n",
    "\n",
    "plt.title('Do you live in Islington Borough,London?')              #set the title of the graph\n",
    "plt.show();                                                        #show the figure"
   ]
  },
  {
   "cell_type": "markdown",
   "id": "2432377e",
   "metadata": {},
   "source": [
    "The pie graph shows that the percentage of respondents residents in islington was higher than non-islington residents, residents being 53.6% of the total number.  But it is noted that the two numbers are not much different."
   ]
  },
  {
   "cell_type": "markdown",
   "id": "7564c111",
   "metadata": {},
   "source": [
    "### 4.School_Islington"
   ]
  },
  {
   "cell_type": "code",
   "execution_count": 35,
   "id": "1474f3c8",
   "metadata": {},
   "outputs": [
    {
     "data": {
      "text/html": [
       "<div>\n",
       "<style scoped>\n",
       "    .dataframe tbody tr th:only-of-type {\n",
       "        vertical-align: middle;\n",
       "    }\n",
       "\n",
       "    .dataframe tbody tr th {\n",
       "        vertical-align: top;\n",
       "    }\n",
       "\n",
       "    .dataframe thead th {\n",
       "        text-align: right;\n",
       "    }\n",
       "</style>\n",
       "<table border=\"1\" class=\"dataframe\">\n",
       "  <thead>\n",
       "    <tr style=\"text-align: right;\">\n",
       "      <th></th>\n",
       "      <th>School_Islington</th>\n",
       "    </tr>\n",
       "  </thead>\n",
       "  <tbody>\n",
       "    <tr>\n",
       "      <th>Yes</th>\n",
       "      <td>32</td>\n",
       "    </tr>\n",
       "    <tr>\n",
       "      <th>No</th>\n",
       "      <td>24</td>\n",
       "    </tr>\n",
       "  </tbody>\n",
       "</table>\n",
       "</div>"
      ],
      "text/plain": [
       "     School_Islington\n",
       "Yes                32\n",
       "No                 24"
      ]
     },
     "execution_count": 35,
     "metadata": {},
     "output_type": "execute_result"
    }
   ],
   "source": [
    "#Count the frequency of data in School_Islington variable\n",
    "school = survey_df.School_Islington.value_counts().to_frame()\n",
    "school "
   ]
  },
  {
   "cell_type": "code",
   "execution_count": 36,
   "id": "bf77314b",
   "metadata": {},
   "outputs": [
    {
     "data": {
      "image/png": "[encoded data removed]",
      "text/plain": [
       "<Figure size 432x432 with 1 Axes>"
      ]
     },
     "metadata": {},
     "output_type": "display_data"
    }
   ],
   "source": [
    "#Take the frequency data to create a pie graph\n",
    "school_count= survey_df.School_Islington.value_counts() \n",
    "plt.figure(figsize = (6,6))                                                        #set the size of the diagram to 6*6     \n",
    "plt.pie(school_count, labels = school_count.index,\n",
    "        autopct='%.1f%%',                                                          #autopct / set the decimal \n",
    "        startangle = 90)                                                           #startangel/Set the starting point of the pie chart at 90 degrees   \n",
    "\n",
    "plt.title('Is your Childs school / Nursery within Islington Borough, London?')     #set the title of the graph\n",
    "plt.show();                                                                        #show the figure"
   ]
  },
  {
   "cell_type": "markdown",
   "id": "94b600f1",
   "metadata": {},
   "source": [
    "The pie graph shows that the percentage of children attending schools in islington, 57.1%, shows that more than half of all people attend school in islington."
   ]
  },
  {
   "cell_type": "markdown",
   "id": "cc871a73",
   "metadata": {},
   "source": [
    "### 5. Children Age Group"
   ]
  },
  {
   "cell_type": "code",
   "execution_count": 37,
   "id": "60491245",
   "metadata": {},
   "outputs": [
    {
     "data": {
      "text/plain": [
       "['Nursery / Pre-school / Day care,Primary School', 'Primary School,Secondary School', 'Primary School', 'Nursery / Pre-school / Day care', 'Nursery / Pre-school / Day care,Secondary Sch...]\n",
       "Categories (5, object): ['Nursery / Pre-school / Day care,Primary School', 'Primary School,Secondary School', 'Primary School', 'Nursery / Pre-school / Day care', 'Nursery / Pre-school / Day care,Secondary Sch...]"
      ]
     },
     "execution_count": 37,
     "metadata": {},
     "output_type": "execute_result"
    }
   ],
   "source": [
    "#Count the frequency of data in Age group variable \n",
    "survey_df.Children_Age_Group.unique()"
   ]
  },
  {
   "cell_type": "code",
   "execution_count": 38,
   "id": "d71adb67",
   "metadata": {},
   "outputs": [
    {
     "data": {
      "text/html": [
       "<div>\n",
       "<style scoped>\n",
       "    .dataframe tbody tr th:only-of-type {\n",
       "        vertical-align: middle;\n",
       "    }\n",
       "\n",
       "    .dataframe tbody tr th {\n",
       "        vertical-align: top;\n",
       "    }\n",
       "\n",
       "    .dataframe thead th {\n",
       "        text-align: right;\n",
       "    }\n",
       "</style>\n",
       "<table border=\"1\" class=\"dataframe\">\n",
       "  <thead>\n",
       "    <tr style=\"text-align: right;\">\n",
       "      <th></th>\n",
       "      <th>0</th>\n",
       "      <th>1</th>\n",
       "    </tr>\n",
       "  </thead>\n",
       "  <tbody>\n",
       "    <tr>\n",
       "      <th>0</th>\n",
       "      <td>Nursery / Pre-school / Day care</td>\n",
       "      <td>Primary School</td>\n",
       "    </tr>\n",
       "    <tr>\n",
       "      <th>1</th>\n",
       "      <td>Primary School</td>\n",
       "      <td>Secondary School</td>\n",
       "    </tr>\n",
       "    <tr>\n",
       "      <th>2</th>\n",
       "      <td>Primary School</td>\n",
       "      <td>None</td>\n",
       "    </tr>\n",
       "    <tr>\n",
       "      <th>3</th>\n",
       "      <td>Primary School</td>\n",
       "      <td>None</td>\n",
       "    </tr>\n",
       "    <tr>\n",
       "      <th>4</th>\n",
       "      <td>Nursery / Pre-school / Day care</td>\n",
       "      <td>Primary School</td>\n",
       "    </tr>\n",
       "  </tbody>\n",
       "</table>\n",
       "</div>"
      ],
      "text/plain": [
       "                                 0                 1\n",
       "0  Nursery / Pre-school / Day care    Primary School\n",
       "1                   Primary School  Secondary School\n",
       "2                   Primary School              None\n",
       "3                   Primary School              None\n",
       "4  Nursery / Pre-school / Day care    Primary School"
      ]
     },
     "execution_count": 38,
     "metadata": {},
     "output_type": "execute_result"
    }
   ],
   "source": [
    "#Splits data for multiple answers. If the data contains ',', \n",
    "#split the answer to another column with the split function\n",
    "child_age_group_list = survey_df['Children_Age_Group'].str.split(',', expand = True)\n",
    "child_age_group_list.head()"
   ]
  },
  {
   "cell_type": "code",
   "execution_count": 39,
   "id": "92c0d881",
   "metadata": {},
   "outputs": [
    {
     "data": {
      "text/plain": [
       "id  age_group\n",
       "0   0            Nursery / Pre-school / Day care\n",
       "    1                             Primary School\n",
       "1   0                             Primary School\n",
       "    1                           Secondary School\n",
       "2   0                             Primary School\n",
       "Name: Children_Group, dtype: object"
      ]
     },
     "execution_count": 39,
     "metadata": {},
     "output_type": "execute_result"
    }
   ],
   "source": [
    "#Create the multiple answer in the same column for easy counting\n",
    "child_age_group_list = child_age_group_list.stack()        # This create a multi-index\n",
    "child_age_group_list.name = 'Children_Group'               # Name the derived variable\n",
    "child_age_group_list.index.names = ['id', 'age_group']     # Name multi-index dimensions\n",
    "child_age_group_list.head()"
   ]
  },
  {
   "cell_type": "code",
   "execution_count": 40,
   "id": "40ac4c92",
   "metadata": {},
   "outputs": [
    {
     "data": {
      "text/plain": [
       "Primary School                     41\n",
       "Nursery / Pre-school / Day care    30\n",
       "Secondary School                    3\n",
       "Name: Children_Group, dtype: int64"
      ]
     },
     "execution_count": 40,
     "metadata": {},
     "output_type": "execute_result"
    }
   ],
   "source": [
    "#Count childdrens number of each group\n",
    "child_age_group_list_count = child_age_group_list.value_counts()\n",
    "child_age_group_list_count"
   ]
  },
  {
   "cell_type": "code",
   "execution_count": 41,
   "id": "daf5863a",
   "metadata": {},
   "outputs": [
    {
     "data": {
      "text/plain": [
       "74"
      ]
     },
     "execution_count": 41,
     "metadata": {},
     "output_type": "execute_result"
    }
   ],
   "source": [
    "#Count total childdrens\n",
    "total_child_age_group = child_age_group_list_count.values.sum()\n",
    "total_child_age_group"
   ]
  },
  {
   "cell_type": "code",
   "execution_count": 42,
   "id": "7d26e678",
   "metadata": {},
   "outputs": [
    {
     "data": {
      "text/html": [
       "<div>\n",
       "<style scoped>\n",
       "    .dataframe tbody tr th:only-of-type {\n",
       "        vertical-align: middle;\n",
       "    }\n",
       "\n",
       "    .dataframe tbody tr th {\n",
       "        vertical-align: top;\n",
       "    }\n",
       "\n",
       "    .dataframe thead th {\n",
       "        text-align: right;\n",
       "    }\n",
       "</style>\n",
       "<table border=\"1\" class=\"dataframe\">\n",
       "  <thead>\n",
       "    <tr style=\"text-align: right;\">\n",
       "      <th></th>\n",
       "      <th>Children_Group</th>\n",
       "    </tr>\n",
       "  </thead>\n",
       "  <tbody>\n",
       "    <tr>\n",
       "      <th>Primary School</th>\n",
       "      <td>55.405405</td>\n",
       "    </tr>\n",
       "    <tr>\n",
       "      <th>Nursery / Pre-school / Day care</th>\n",
       "      <td>40.540541</td>\n",
       "    </tr>\n",
       "    <tr>\n",
       "      <th>Secondary School</th>\n",
       "      <td>4.054054</td>\n",
       "    </tr>\n",
       "  </tbody>\n",
       "</table>\n",
       "</div>"
      ],
      "text/plain": [
       "                                 Children_Group\n",
       "Primary School                        55.405405\n",
       "Nursery / Pre-school / Day care       40.540541\n",
       "Secondary School                       4.054054"
      ]
     },
     "execution_count": 42,
     "metadata": {},
     "output_type": "execute_result"
    }
   ],
   "source": [
    "#Calculate the percentage of each child_age_group\n",
    "child_age_group_list_count_pct = child_age_group_list_count*100 / total_child_age_group\n",
    "child_age_group_list_count_pct.to_frame()"
   ]
  },
  {
   "cell_type": "code",
   "execution_count": 43,
   "id": "dc9bafd7",
   "metadata": {},
   "outputs": [
    {
     "data": {
      "image/png": "[encoded data removed]",
      "text/plain": [
       "<Figure size 360x360 with 1 Axes>"
      ]
     },
     "metadata": {
      "needs_background": "light"
     },
     "output_type": "display_data"
    }
   ],
   "source": [
    "#Plot the number of different answers to a barh graph using the library mathplotlib\n",
    "plt.figure(figsize=(5,5))                                                 #set the size of the diagram to 5*5\n",
    "colors_list = ['Red','Orange', 'Blue', 'Purple']                          #set the color you want to display\n",
    "graph = plt.barh(child_age_group_list_count.index,\n",
    "                 child_age_group_list_count,\n",
    "                 color = colors_list)\n",
    "plt.title('Which age group are your children in? Tick ALL that apply')    #set the title of the graph\n",
    "plt.xlabel('Count');                                                      #Name the x-axis"
   ]
  },
  {
   "cell_type": "markdown",
   "id": "20546558",
   "metadata": {},
   "source": [
    "\n",
    "The barh graph shows the total number of children being 74 with most attending primary school, at 41 of the total repondents, 55.4% of all children.  Followed by children who are in Nursery / Pre-school / Day care at about 40.5%, and the lowest was secondary school children at only about 4.1%."
   ]
  },
  {
   "cell_type": "markdown",
   "id": "621c7bb8",
   "metadata": {},
   "source": [
    "### 6.Distance"
   ]
  },
  {
   "cell_type": "code",
   "execution_count": 44,
   "id": "006398cc",
   "metadata": {},
   "outputs": [
    {
     "data": {
      "text/plain": [
       "Less than 0.3 miles    23\n",
       "0.3 – 0.7 miles        15\n",
       "0.7 - 1 miles           9\n",
       "More than 1miles        9\n",
       "Name: Distance, dtype: int64"
      ]
     },
     "execution_count": 44,
     "metadata": {},
     "output_type": "execute_result"
    }
   ],
   "source": [
    "#Count the frequency of data in Distance variable\n",
    "distance_counts = survey_df.Distance.value_counts()\n",
    "distance_counts"
   ]
  },
  {
   "cell_type": "code",
   "execution_count": 45,
   "id": "e0076f4e",
   "metadata": {},
   "outputs": [
    {
     "data": {
      "text/plain": [
       "56"
      ]
     },
     "execution_count": 45,
     "metadata": {},
     "output_type": "execute_result"
    }
   ],
   "source": [
    "#Count the total number \n",
    "total_distance_counts = distance_counts.values.sum()\n",
    "total_distance_counts"
   ]
  },
  {
   "cell_type": "code",
   "execution_count": 46,
   "id": "29215158",
   "metadata": {},
   "outputs": [
    {
     "data": {
      "text/html": [
       "<div>\n",
       "<style scoped>\n",
       "    .dataframe tbody tr th:only-of-type {\n",
       "        vertical-align: middle;\n",
       "    }\n",
       "\n",
       "    .dataframe tbody tr th {\n",
       "        vertical-align: top;\n",
       "    }\n",
       "\n",
       "    .dataframe thead th {\n",
       "        text-align: right;\n",
       "    }\n",
       "</style>\n",
       "<table border=\"1\" class=\"dataframe\">\n",
       "  <thead>\n",
       "    <tr style=\"text-align: right;\">\n",
       "      <th></th>\n",
       "      <th>Distance</th>\n",
       "    </tr>\n",
       "  </thead>\n",
       "  <tbody>\n",
       "    <tr>\n",
       "      <th>Less than 0.3 miles</th>\n",
       "      <td>41.071429</td>\n",
       "    </tr>\n",
       "    <tr>\n",
       "      <th>0.3 – 0.7 miles</th>\n",
       "      <td>26.785714</td>\n",
       "    </tr>\n",
       "    <tr>\n",
       "      <th>0.7 - 1 miles</th>\n",
       "      <td>16.071429</td>\n",
       "    </tr>\n",
       "    <tr>\n",
       "      <th>More than 1miles</th>\n",
       "      <td>16.071429</td>\n",
       "    </tr>\n",
       "  </tbody>\n",
       "</table>\n",
       "</div>"
      ],
      "text/plain": [
       "                      Distance\n",
       "Less than 0.3 miles  41.071429\n",
       "0.3 – 0.7 miles      26.785714\n",
       "0.7 - 1 miles        16.071429\n",
       "More than 1miles     16.071429"
      ]
     },
     "execution_count": 46,
     "metadata": {},
     "output_type": "execute_result"
    }
   ],
   "source": [
    "#Calculate the percentage of each distance\n",
    "distance_counts_pct = distance_counts*100 / total_distance_counts\n",
    "distance_counts_pct.to_frame()"
   ]
  },
  {
   "cell_type": "code",
   "execution_count": 47,
   "id": "6fcb303f",
   "metadata": {},
   "outputs": [
    {
     "data": {
      "image/png": "[encoded data removed]",
      "text/plain": [
       "<Figure size 432x288 with 1 Axes>"
      ]
     },
     "metadata": {
      "needs_background": "light"
     },
     "output_type": "display_data"
    }
   ],
   "source": [
    "#Plot a barh graph of in horizontal format using barplot in seaborn library\n",
    "sns.barplot(x=distance_counts, y=distance_counts.index)\n",
    "\n",
    "plt.title('How far do you live from the school?')   #set the title of the graph\n",
    "plt.xlabel('Count')                                 #label the axes x\n",
    "plt.ylabel(None);                                   #label the axes y"
   ]
  },
  {
   "cell_type": "markdown",
   "id": "5721f1c7",
   "metadata": {},
   "source": [
    "The graph shows most residents are within the closest distance range to the school."
   ]
  },
  {
   "cell_type": "markdown",
   "id": "5fb3668d",
   "metadata": {},
   "source": [
    "### 7.Travel Time"
   ]
  },
  {
   "cell_type": "code",
   "execution_count": 48,
   "id": "8424c52d",
   "metadata": {},
   "outputs": [
    {
     "data": {
      "text/plain": [
       "Less than 10 mins    31\n",
       "10 - 30 mins         20\n",
       "30 mins - 1 hrs       3\n",
       "More than 1 hrs       2\n",
       "Name: Travel_Time, dtype: int64"
      ]
     },
     "execution_count": 48,
     "metadata": {},
     "output_type": "execute_result"
    }
   ],
   "source": [
    "#Returns object containing counts of unique values : Travel Time\n",
    "travel_time_count = survey_df.Travel_Time.value_counts()\n",
    "travel_time_count"
   ]
  },
  {
   "cell_type": "code",
   "execution_count": 49,
   "id": "0cbd7c90",
   "metadata": {},
   "outputs": [
    {
     "data": {
      "text/plain": [
       "56"
      ]
     },
     "execution_count": 49,
     "metadata": {},
     "output_type": "execute_result"
    }
   ],
   "source": [
    "#Count the total number\n",
    "total_travel_time_count = travel_time_count.values.sum()\n",
    "total_travel_time_count"
   ]
  },
  {
   "cell_type": "code",
   "execution_count": 50,
   "id": "7a5f5ae6",
   "metadata": {},
   "outputs": [
    {
     "data": {
      "text/html": [
       "<div>\n",
       "<style scoped>\n",
       "    .dataframe tbody tr th:only-of-type {\n",
       "        vertical-align: middle;\n",
       "    }\n",
       "\n",
       "    .dataframe tbody tr th {\n",
       "        vertical-align: top;\n",
       "    }\n",
       "\n",
       "    .dataframe thead th {\n",
       "        text-align: right;\n",
       "    }\n",
       "</style>\n",
       "<table border=\"1\" class=\"dataframe\">\n",
       "  <thead>\n",
       "    <tr style=\"text-align: right;\">\n",
       "      <th></th>\n",
       "      <th>Travel_Time</th>\n",
       "    </tr>\n",
       "  </thead>\n",
       "  <tbody>\n",
       "    <tr>\n",
       "      <th>Less than 10 mins</th>\n",
       "      <td>55.357143</td>\n",
       "    </tr>\n",
       "    <tr>\n",
       "      <th>10 - 30 mins</th>\n",
       "      <td>35.714286</td>\n",
       "    </tr>\n",
       "    <tr>\n",
       "      <th>30 mins - 1 hrs</th>\n",
       "      <td>5.357143</td>\n",
       "    </tr>\n",
       "    <tr>\n",
       "      <th>More than 1 hrs</th>\n",
       "      <td>3.571429</td>\n",
       "    </tr>\n",
       "  </tbody>\n",
       "</table>\n",
       "</div>"
      ],
      "text/plain": [
       "                   Travel_Time\n",
       "Less than 10 mins    55.357143\n",
       "10 - 30 mins         35.714286\n",
       "30 mins - 1 hrs       5.357143\n",
       "More than 1 hrs       3.571429"
      ]
     },
     "execution_count": 50,
     "metadata": {},
     "output_type": "execute_result"
    }
   ],
   "source": [
    "#Calculate the percentage of each Travel time\n",
    "travel_time_count_pct = travel_time_count *100 / total_travel_time_count\n",
    "travel_time_count_pct.to_frame()"
   ]
  },
  {
   "cell_type": "code",
   "execution_count": 51,
   "id": "5556b5d4",
   "metadata": {},
   "outputs": [
    {
     "data": {
      "image/png": "[encoded data removed]",
      "text/plain": [
       "<Figure size 432x288 with 1 Axes>"
      ]
     },
     "metadata": {
      "needs_background": "light"
     },
     "output_type": "display_data"
    }
   ],
   "source": [
    "#Plot a barh graph of in horizontal format using barplot in seaborn library\n",
    "sns.barplot(x = travel_time_count, y = travel_time_count.index)\n",
    "\n",
    "plt.title('How long dose it take for your children to get to school?')     #set the title of the graph\n",
    "plt.xlabel('Count');                                                       #label the axes x\n",
    "plt.ylabel(None);                                                          #label the axes y"
   ]
  },
  {
   "cell_type": "markdown",
   "id": "47ecea00",
   "metadata": {},
   "source": [
    "This graph shows that respondents who spent less than 10 minutes traveling to school represented the largest number or respondents, then the number decreased with more travel time.  This shows consistency with information about distance from school."
   ]
  },
  {
   "cell_type": "markdown",
   "id": "cba1db9b",
   "metadata": {},
   "source": [
    "### 8.Mode of Travel"
   ]
  },
  {
   "cell_type": "code",
   "execution_count": 52,
   "id": "a7db627d",
   "metadata": {},
   "outputs": [
    {
     "data": {
      "text/html": [
       "<div>\n",
       "<style scoped>\n",
       "    .dataframe tbody tr th:only-of-type {\n",
       "        vertical-align: middle;\n",
       "    }\n",
       "\n",
       "    .dataframe tbody tr th {\n",
       "        vertical-align: top;\n",
       "    }\n",
       "\n",
       "    .dataframe thead th {\n",
       "        text-align: right;\n",
       "    }\n",
       "</style>\n",
       "<table border=\"1\" class=\"dataframe\">\n",
       "  <thead>\n",
       "    <tr style=\"text-align: right;\">\n",
       "      <th></th>\n",
       "      <th>0</th>\n",
       "      <th>1</th>\n",
       "      <th>2</th>\n",
       "    </tr>\n",
       "  </thead>\n",
       "  <tbody>\n",
       "    <tr>\n",
       "      <th>0</th>\n",
       "      <td>Walking</td>\n",
       "      <td>Cycling</td>\n",
       "      <td>None</td>\n",
       "    </tr>\n",
       "    <tr>\n",
       "      <th>1</th>\n",
       "      <td>Walking</td>\n",
       "      <td>None</td>\n",
       "      <td>None</td>\n",
       "    </tr>\n",
       "    <tr>\n",
       "      <th>2</th>\n",
       "      <td>Walking</td>\n",
       "      <td>Car</td>\n",
       "      <td>None</td>\n",
       "    </tr>\n",
       "    <tr>\n",
       "      <th>3</th>\n",
       "      <td>Walking</td>\n",
       "      <td>Cycling</td>\n",
       "      <td>None</td>\n",
       "    </tr>\n",
       "    <tr>\n",
       "      <th>4</th>\n",
       "      <td>Walking</td>\n",
       "      <td>Cycling</td>\n",
       "      <td>None</td>\n",
       "    </tr>\n",
       "  </tbody>\n",
       "</table>\n",
       "</div>"
      ],
      "text/plain": [
       "         0        1     2\n",
       "0  Walking  Cycling  None\n",
       "1  Walking     None  None\n",
       "2  Walking      Car  None\n",
       "3  Walking  Cycling  None\n",
       "4  Walking  Cycling  None"
      ]
     },
     "execution_count": 52,
     "metadata": {},
     "output_type": "execute_result"
    }
   ],
   "source": [
    "#Splits data for multiple answers. If the data contains ',', \n",
    "#split the answer to another column with the split function\n",
    "mode_of_travel_list = survey_df.Mode_of_Travel.str.split(',', expand=True)\n",
    "mode_of_travel_list.head()"
   ]
  },
  {
   "cell_type": "code",
   "execution_count": 53,
   "id": "db9c27ca",
   "metadata": {},
   "outputs": [
    {
     "data": {
      "text/html": [
       "<div>\n",
       "<style scoped>\n",
       "    .dataframe tbody tr th:only-of-type {\n",
       "        vertical-align: middle;\n",
       "    }\n",
       "\n",
       "    .dataframe tbody tr th {\n",
       "        vertical-align: top;\n",
       "    }\n",
       "\n",
       "    .dataframe thead th {\n",
       "        text-align: right;\n",
       "    }\n",
       "</style>\n",
       "<table border=\"1\" class=\"dataframe\">\n",
       "  <thead>\n",
       "    <tr style=\"text-align: right;\">\n",
       "      <th></th>\n",
       "      <th>id</th>\n",
       "      <th>mode_travel</th>\n",
       "      <th>mode_of_travel_Group</th>\n",
       "    </tr>\n",
       "  </thead>\n",
       "  <tbody>\n",
       "    <tr>\n",
       "      <th>0</th>\n",
       "      <td>0</td>\n",
       "      <td>0</td>\n",
       "      <td>Walking</td>\n",
       "    </tr>\n",
       "    <tr>\n",
       "      <th>1</th>\n",
       "      <td>0</td>\n",
       "      <td>1</td>\n",
       "      <td>Cycling</td>\n",
       "    </tr>\n",
       "    <tr>\n",
       "      <th>2</th>\n",
       "      <td>1</td>\n",
       "      <td>0</td>\n",
       "      <td>Walking</td>\n",
       "    </tr>\n",
       "    <tr>\n",
       "      <th>3</th>\n",
       "      <td>2</td>\n",
       "      <td>0</td>\n",
       "      <td>Walking</td>\n",
       "    </tr>\n",
       "    <tr>\n",
       "      <th>4</th>\n",
       "      <td>2</td>\n",
       "      <td>1</td>\n",
       "      <td>Car</td>\n",
       "    </tr>\n",
       "    <tr>\n",
       "      <th>...</th>\n",
       "      <td>...</td>\n",
       "      <td>...</td>\n",
       "      <td>...</td>\n",
       "    </tr>\n",
       "    <tr>\n",
       "      <th>82</th>\n",
       "      <td>51</td>\n",
       "      <td>0</td>\n",
       "      <td>Car</td>\n",
       "    </tr>\n",
       "    <tr>\n",
       "      <th>83</th>\n",
       "      <td>52</td>\n",
       "      <td>0</td>\n",
       "      <td>Walking</td>\n",
       "    </tr>\n",
       "    <tr>\n",
       "      <th>84</th>\n",
       "      <td>53</td>\n",
       "      <td>0</td>\n",
       "      <td>Walking</td>\n",
       "    </tr>\n",
       "    <tr>\n",
       "      <th>85</th>\n",
       "      <td>54</td>\n",
       "      <td>0</td>\n",
       "      <td>Car</td>\n",
       "    </tr>\n",
       "    <tr>\n",
       "      <th>86</th>\n",
       "      <td>55</td>\n",
       "      <td>0</td>\n",
       "      <td>Car</td>\n",
       "    </tr>\n",
       "  </tbody>\n",
       "</table>\n",
       "<p>87 rows × 3 columns</p>\n",
       "</div>"
      ],
      "text/plain": [
       "    id  mode_travel mode_of_travel_Group\n",
       "0    0            0              Walking\n",
       "1    0            1              Cycling\n",
       "2    1            0              Walking\n",
       "3    2            0              Walking\n",
       "4    2            1                  Car\n",
       "..  ..          ...                  ...\n",
       "82  51            0                  Car\n",
       "83  52            0              Walking\n",
       "84  53            0              Walking\n",
       "85  54            0                  Car\n",
       "86  55            0                  Car\n",
       "\n",
       "[87 rows x 3 columns]"
      ]
     },
     "execution_count": 53,
     "metadata": {},
     "output_type": "execute_result"
    }
   ],
   "source": [
    "#Stack columns into a single variables\n",
    "#Create the multiple answer in the same column for easy counting\n",
    "mode_of_travel_list = mode_of_travel_list.stack()                    #This create a multi-index\n",
    "mode_of_travel_list.name = 'mode_of_travel_Group'                    #Name the derived variable\n",
    "mode_of_travel_list.index.names = ['id', 'mode_travel']              #Name multi-index dimensions\n",
    "mode_of_travel_list.to_frame().reset_index()                         #reset_index = remove index "
   ]
  },
  {
   "cell_type": "code",
   "execution_count": 54,
   "id": "9da60cc5",
   "metadata": {},
   "outputs": [
    {
     "data": {
      "text/plain": [
       "Walking                   45\n",
       "Car                       20\n",
       "Cycling                   14\n",
       "Local public transport     5\n",
       "Other                      3\n",
       "Name: mode_of_travel_Group, dtype: int64"
      ]
     },
     "execution_count": 54,
     "metadata": {},
     "output_type": "execute_result"
    }
   ],
   "source": [
    "#Returns object containing counts of unique values : Mode of Travel\n",
    "#Count the frequency of data\n",
    "mode_of_travel_count = mode_of_travel_list.value_counts()\n",
    "mode_of_travel_count"
   ]
  },
  {
   "cell_type": "code",
   "execution_count": 55,
   "id": "8ea34dee",
   "metadata": {},
   "outputs": [
    {
     "data": {
      "text/plain": [
       "87"
      ]
     },
     "execution_count": 55,
     "metadata": {},
     "output_type": "execute_result"
    }
   ],
   "source": [
    "#Count the total number Mode of Travel\n",
    "total_mode_of_travel_count = mode_of_travel_count.values.sum()\n",
    "total_mode_of_travel_count"
   ]
  },
  {
   "cell_type": "code",
   "execution_count": 56,
   "id": "ffcaa541",
   "metadata": {},
   "outputs": [
    {
     "data": {
      "text/html": [
       "<div>\n",
       "<style scoped>\n",
       "    .dataframe tbody tr th:only-of-type {\n",
       "        vertical-align: middle;\n",
       "    }\n",
       "\n",
       "    .dataframe tbody tr th {\n",
       "        vertical-align: top;\n",
       "    }\n",
       "\n",
       "    .dataframe thead th {\n",
       "        text-align: right;\n",
       "    }\n",
       "</style>\n",
       "<table border=\"1\" class=\"dataframe\">\n",
       "  <thead>\n",
       "    <tr style=\"text-align: right;\">\n",
       "      <th></th>\n",
       "      <th>mode_of_travel_Group</th>\n",
       "    </tr>\n",
       "  </thead>\n",
       "  <tbody>\n",
       "    <tr>\n",
       "      <th>Walking</th>\n",
       "      <td>51.724138</td>\n",
       "    </tr>\n",
       "    <tr>\n",
       "      <th>Car</th>\n",
       "      <td>22.988506</td>\n",
       "    </tr>\n",
       "    <tr>\n",
       "      <th>Cycling</th>\n",
       "      <td>16.091954</td>\n",
       "    </tr>\n",
       "    <tr>\n",
       "      <th>Local public transport</th>\n",
       "      <td>5.747126</td>\n",
       "    </tr>\n",
       "    <tr>\n",
       "      <th>Other</th>\n",
       "      <td>3.448276</td>\n",
       "    </tr>\n",
       "  </tbody>\n",
       "</table>\n",
       "</div>"
      ],
      "text/plain": [
       "                        mode_of_travel_Group\n",
       "Walking                            51.724138\n",
       "Car                                22.988506\n",
       "Cycling                            16.091954\n",
       "Local public transport              5.747126\n",
       "Other                               3.448276"
      ]
     },
     "execution_count": 56,
     "metadata": {},
     "output_type": "execute_result"
    }
   ],
   "source": [
    "#Calculate the percentage of each Mode of Travel\n",
    "mode_of_travel_count_pct = mode_of_travel_count * 100 / total_mode_of_travel_count\n",
    "mode_of_travel_count_pct.to_frame()"
   ]
  },
  {
   "cell_type": "code",
   "execution_count": 57,
   "id": "ba40a2c7",
   "metadata": {},
   "outputs": [
    {
     "data": {
      "image/png": "[encoded data removed]",
      "text/plain": [
       "<Figure size 432x432 with 1 Axes>"
      ]
     },
     "metadata": {
      "needs_background": "light"
     },
     "output_type": "display_data"
    }
   ],
   "source": [
    "#Plot a bar graph of Mode of Travel \n",
    "plt.figure(figsize=(6,6))                                                         #set the size of the graph         \n",
    "colors_list = ['green','Orange', 'Blue', 'Purple', 'grey']    \n",
    "graph = plt.barh(mode_of_travel_count.index,\n",
    "                 mode_of_travel_count,\n",
    "                 color = colors_list)\n",
    "plt.title('How do yure children usuelly travel to school?Tick ALL the apply')    #set the title of the graph\n",
    "plt.xlabel('Count');                                                              #label the axes x"
   ]
  },
  {
   "cell_type": "markdown",
   "id": "5e1ec64e",
   "metadata": {},
   "source": [
    "The graph showing the mode of travel shows that the majority of children choose to walk to school.  Around 55.72% of the total which is consistent with the information that most children reside close to the school."
   ]
  },
  {
   "cell_type": "markdown",
   "id": "418da3a2",
   "metadata": {},
   "source": [
    "### 9.Purpose of jurney"
   ]
  },
  {
   "cell_type": "code",
   "execution_count": 58,
   "id": "700b3440",
   "metadata": {},
   "outputs": [
    {
     "data": {
      "text/html": [
       "<div>\n",
       "<style scoped>\n",
       "    .dataframe tbody tr th:only-of-type {\n",
       "        vertical-align: middle;\n",
       "    }\n",
       "\n",
       "    .dataframe tbody tr th {\n",
       "        vertical-align: top;\n",
       "    }\n",
       "\n",
       "    .dataframe thead th {\n",
       "        text-align: right;\n",
       "    }\n",
       "</style>\n",
       "<table border=\"1\" class=\"dataframe\">\n",
       "  <thead>\n",
       "    <tr style=\"text-align: right;\">\n",
       "      <th></th>\n",
       "      <th>Purpose_of_Journey</th>\n",
       "    </tr>\n",
       "  </thead>\n",
       "  <tbody>\n",
       "    <tr>\n",
       "      <th>Specifically to take the children to school.</th>\n",
       "      <td>47</td>\n",
       "    </tr>\n",
       "    <tr>\n",
       "      <th>Part of another journey, e.g. work, shopping, leisure.</th>\n",
       "      <td>9</td>\n",
       "    </tr>\n",
       "  </tbody>\n",
       "</table>\n",
       "</div>"
      ],
      "text/plain": [
       "                                                    Purpose_of_Journey\n",
       "Specifically to take the children to school.                        47\n",
       "Part of another journey, e.g. work, shopping, l...                   9"
      ]
     },
     "execution_count": 58,
     "metadata": {},
     "output_type": "execute_result"
    }
   ],
   "source": [
    "#Returns object containing counts of unique values : Purpose of Journey\n",
    "#Count the frequency of data Purpose of Journey\n",
    "purpose_journey = survey_df.Purpose_of_Journey.value_counts().to_frame()\n",
    "purpose_journey"
   ]
  },
  {
   "cell_type": "code",
   "execution_count": 59,
   "id": "dcbc39fb",
   "metadata": {},
   "outputs": [
    {
     "data": {
      "image/png": "[encoded data removed]",
      "text/plain": [
       "<Figure size 360x360 with 1 Axes>"
      ]
     },
     "metadata": {},
     "output_type": "display_data"
    }
   ],
   "source": [
    "#Take the frequency data to create a pie graph\n",
    "purpose_journey_count = survey_df.Purpose_of_Journey.value_counts()\n",
    "plt.figure(figsize = (5,5))\n",
    "plt.title('What are the main reasons for you and your children travelling this way to school? Tick ALL that apply')   #กำหนดชื่อกราฟ  \n",
    "plt.pie(purpose_journey_count, labels = purpose_journey_count.index,\n",
    "        autopct = '%1.1f%%',                                                                                          #autopct กำหนดทศนิยมข้อมูลให้เป็น 1 ตำแหน้ง\n",
    "        startangle = 90);                                                                                             #startangel กำหนดจุดเริ่มต้นของกราฟวงกลมที่ 90 องศา \n",
    "\n"
   ]
  },
  {
   "cell_type": "markdown",
   "id": "46b01f8a",
   "metadata": {},
   "source": [
    "\n",
    "From the pie graph, it shows that most parents's reason for traveling is paticulaly to drop their children to school at 83.9% of all parents.  Though there are still a number of people who note there being other reasons 16.1%"
   ]
  },
  {
   "cell_type": "markdown",
   "id": "f6ad15ed",
   "metadata": {},
   "source": [
    "### 10.Reasons Mode of Travel"
   ]
  },
  {
   "cell_type": "code",
   "execution_count": 61,
   "id": "64a499ba",
   "metadata": {},
   "outputs": [
    {
     "data": {
      "text/html": [
       "<div>\n",
       "<style scoped>\n",
       "    .dataframe tbody tr th:only-of-type {\n",
       "        vertical-align: middle;\n",
       "    }\n",
       "\n",
       "    .dataframe tbody tr th {\n",
       "        vertical-align: top;\n",
       "    }\n",
       "\n",
       "    .dataframe thead th {\n",
       "        text-align: right;\n",
       "    }\n",
       "</style>\n",
       "<table border=\"1\" class=\"dataframe\">\n",
       "  <thead>\n",
       "    <tr style=\"text-align: right;\">\n",
       "      <th></th>\n",
       "      <th>0</th>\n",
       "      <th>1</th>\n",
       "      <th>2</th>\n",
       "      <th>3</th>\n",
       "      <th>4</th>\n",
       "      <th>5</th>\n",
       "    </tr>\n",
       "  </thead>\n",
       "  <tbody>\n",
       "    <tr>\n",
       "      <th>0</th>\n",
       "      <td>It is good for my child’s health and wellbeing</td>\n",
       "      <td>It is good for Environment</td>\n",
       "      <td>None</td>\n",
       "      <td>None</td>\n",
       "      <td>None</td>\n",
       "      <td>None</td>\n",
       "    </tr>\n",
       "    <tr>\n",
       "      <th>1</th>\n",
       "      <td>It is good for my child’s health and wellbeing</td>\n",
       "      <td>It is good for Environment</td>\n",
       "      <td>It is the cheapest</td>\n",
       "      <td>It is the fastest</td>\n",
       "      <td>None</td>\n",
       "      <td>None</td>\n",
       "    </tr>\n",
       "    <tr>\n",
       "      <th>2</th>\n",
       "      <td>It is too far to use any other mode</td>\n",
       "      <td>It is the fastest</td>\n",
       "      <td>It is the safest</td>\n",
       "      <td>None</td>\n",
       "      <td>None</td>\n",
       "      <td>None</td>\n",
       "    </tr>\n",
       "    <tr>\n",
       "      <th>3</th>\n",
       "      <td>It is good for my child’s health and wellbeing</td>\n",
       "      <td>It is good for Environment</td>\n",
       "      <td>The distance is too short to use any other mode</td>\n",
       "      <td>It is the cheapest</td>\n",
       "      <td>It is the fastest</td>\n",
       "      <td>It is the safest</td>\n",
       "    </tr>\n",
       "    <tr>\n",
       "      <th>4</th>\n",
       "      <td>It is good for my child’s health and wellbeing</td>\n",
       "      <td>It is good for Environment</td>\n",
       "      <td>The distance is too short to use any other mode</td>\n",
       "      <td>It is the cheapest</td>\n",
       "      <td>It is the fastest</td>\n",
       "      <td>It is the safest</td>\n",
       "    </tr>\n",
       "  </tbody>\n",
       "</table>\n",
       "</div>"
      ],
      "text/plain": [
       "                                                0                           1  \\\n",
       "0  It is good for my child’s health and wellbeing  It is good for Environment   \n",
       "1  It is good for my child’s health and wellbeing  It is good for Environment   \n",
       "2             It is too far to use any other mode           It is the fastest   \n",
       "3  It is good for my child’s health and wellbeing  It is good for Environment   \n",
       "4  It is good for my child’s health and wellbeing  It is good for Environment   \n",
       "\n",
       "                                                 2                   3  \\\n",
       "0                                             None                None   \n",
       "1                               It is the cheapest   It is the fastest   \n",
       "2                                 It is the safest                None   \n",
       "3  The distance is too short to use any other mode  It is the cheapest   \n",
       "4  The distance is too short to use any other mode  It is the cheapest   \n",
       "\n",
       "                   4                 5  \n",
       "0               None              None  \n",
       "1               None              None  \n",
       "2               None              None  \n",
       "3  It is the fastest  It is the safest  \n",
       "4  It is the fastest  It is the safest  "
      ]
     },
     "execution_count": 61,
     "metadata": {},
     "output_type": "execute_result"
    }
   ],
   "source": [
    "#Splits data for multiple answers. If the data contains ',', \n",
    "#split the answer to another column with the split function\n",
    "reason_of_travel_list = survey_df['Reasons_Mode_of_Travel'].str.split(',', expand=True)\n",
    "reason_of_travel_list.head()"
   ]
  },
  {
   "cell_type": "code",
   "execution_count": 62,
   "id": "5ab5c72a",
   "metadata": {},
   "outputs": [
    {
     "data": {
      "text/plain": [
       "id  reason_travel\n",
       "0   0                It is good for my child’s health and wellbeing\n",
       "    1                                    It is good for Environment\n",
       "1   0                It is good for my child’s health and wellbeing\n",
       "    1                                    It is good for Environment\n",
       "    2                                            It is the cheapest\n",
       "Name: Reason_of_travel_Group, dtype: object"
      ]
     },
     "execution_count": 62,
     "metadata": {},
     "output_type": "execute_result"
    }
   ],
   "source": [
    "#Stack columns into a single variables\n",
    "#Create the multiple answer in the same column for easy counting\n",
    "reason_of_travel_list = reason_of_travel_list.stack()                    # This create a multi-index\n",
    "reason_of_travel_list.name = 'Reason_of_travel_Group'                    # Name the derived variable\n",
    "reason_of_travel_list.index.names = ['id', 'reason_travel']              # Name multi-index dimensions\n",
    "reason_of_travel_list.head()"
   ]
  },
  {
   "cell_type": "code",
   "execution_count": 63,
   "id": "f8ad05f3",
   "metadata": {},
   "outputs": [
    {
     "data": {
      "text/plain": [
       "It is the fastest                                  40\n",
       "It is good for my child’s health and wellbeing     35\n",
       "The distance is too short to use any other mode    30\n",
       "It is good for Environment                         29\n",
       "It is the safest                                   16\n",
       "It is the cheapest                                 16\n",
       "It is too far to use any other mode                 6\n",
       "He/she cannot get there any other way               5\n",
       "Name: Reason_of_travel_Group, dtype: int64"
      ]
     },
     "execution_count": 63,
     "metadata": {},
     "output_type": "execute_result"
    }
   ],
   "source": [
    "#Returns object containing counts of unique values : Mode of Travel\n",
    "#Count the frequency of data\n",
    "reason_of_travel_count = reason_of_travel_list.value_counts()\n",
    "reason_of_travel_count"
   ]
  },
  {
   "cell_type": "code",
   "execution_count": 64,
   "id": "2d80c486",
   "metadata": {},
   "outputs": [
    {
     "data": {
      "text/plain": [
       "177"
      ]
     },
     "execution_count": 64,
     "metadata": {},
     "output_type": "execute_result"
    }
   ],
   "source": [
    "#Count the total number\n",
    "total_reason_of_travel_count = reason_of_travel_count.values.sum()\n",
    "total_reason_of_travel_count"
   ]
  },
  {
   "cell_type": "code",
   "execution_count": 65,
   "id": "5ca34fea",
   "metadata": {},
   "outputs": [
    {
     "data": {
      "text/html": [
       "<div>\n",
       "<style scoped>\n",
       "    .dataframe tbody tr th:only-of-type {\n",
       "        vertical-align: middle;\n",
       "    }\n",
       "\n",
       "    .dataframe tbody tr th {\n",
       "        vertical-align: top;\n",
       "    }\n",
       "\n",
       "    .dataframe thead th {\n",
       "        text-align: right;\n",
       "    }\n",
       "</style>\n",
       "<table border=\"1\" class=\"dataframe\">\n",
       "  <thead>\n",
       "    <tr style=\"text-align: right;\">\n",
       "      <th></th>\n",
       "      <th>Reason_of_travel_Group</th>\n",
       "    </tr>\n",
       "  </thead>\n",
       "  <tbody>\n",
       "    <tr>\n",
       "      <th>It is the fastest</th>\n",
       "      <td>22.598870</td>\n",
       "    </tr>\n",
       "    <tr>\n",
       "      <th>It is good for my child’s health and wellbeing</th>\n",
       "      <td>19.774011</td>\n",
       "    </tr>\n",
       "    <tr>\n",
       "      <th>The distance is too short to use any other mode</th>\n",
       "      <td>16.949153</td>\n",
       "    </tr>\n",
       "    <tr>\n",
       "      <th>It is good for Environment</th>\n",
       "      <td>16.384181</td>\n",
       "    </tr>\n",
       "    <tr>\n",
       "      <th>It is the safest</th>\n",
       "      <td>9.039548</td>\n",
       "    </tr>\n",
       "    <tr>\n",
       "      <th>It is the cheapest</th>\n",
       "      <td>9.039548</td>\n",
       "    </tr>\n",
       "    <tr>\n",
       "      <th>It is too far to use any other mode</th>\n",
       "      <td>3.389831</td>\n",
       "    </tr>\n",
       "    <tr>\n",
       "      <th>He/she cannot get there any other way</th>\n",
       "      <td>2.824859</td>\n",
       "    </tr>\n",
       "  </tbody>\n",
       "</table>\n",
       "</div>"
      ],
      "text/plain": [
       "                                                 Reason_of_travel_Group\n",
       "It is the fastest                                             22.598870\n",
       "It is good for my child’s health and wellbeing                19.774011\n",
       "The distance is too short to use any other mode               16.949153\n",
       "It is good for Environment                                    16.384181\n",
       "It is the safest                                               9.039548\n",
       "It is the cheapest                                             9.039548\n",
       "It is too far to use any other mode                            3.389831\n",
       "He/she cannot get there any other way                          2.824859"
      ]
     },
     "execution_count": 65,
     "metadata": {},
     "output_type": "execute_result"
    }
   ],
   "source": [
    "#Count the total number reason of travel \n",
    "reason_of_travel_count_pct = reason_of_travel_count *100 / total_reason_of_travel_count\n",
    "reason_of_travel_count_pct.to_frame()"
   ]
  },
  {
   "cell_type": "code",
   "execution_count": 66,
   "id": "e4e5cc98",
   "metadata": {},
   "outputs": [
    {
     "data": {
      "image/png": "[encoded data removed]",
      "text/plain": [
       "<Figure size 432x432 with 1 Axes>"
      ]
     },
     "metadata": {
      "needs_background": "light"
     },
     "output_type": "display_data"
    }
   ],
   "source": [
    "#Create a pie graph\n",
    "plt.figure(figsize=(6,6))                                    #set the size of the diagram to 6*6 \n",
    "colors_list = ['green','Orange', 'Blue', 'Purple']           #set the colour for the graph\n",
    "graph = plt.barh(reason_of_travel_count.index,\n",
    "                 reason_of_travel_count,\n",
    "                 color = colors_list)\n",
    "plt.title('Reason Mode of Travel?')                          #set the title of the graph\n",
    "plt.xlabel('Count');                                         #label the axes x"
   ]
  },
  {
   "cell_type": "markdown",
   "id": "e9b146f0",
   "metadata": {},
   "source": [
    "\n",
    "This graph shows that the reasons people chose their most preferred mode of travel were that it is the fastest, followed by that it is good for my child's health and wellbeing.  Those who responded with the 'distance is too short to use any other mode' was the third most popular response.  The reason people choose the least is He/she cannot get there any other way."
   ]
  },
  {
   "cell_type": "markdown",
   "id": "477bc261",
   "metadata": {},
   "source": [
    "### 11.Accompanying_children"
   ]
  },
  {
   "cell_type": "code",
   "execution_count": 67,
   "id": "3afd3e65",
   "metadata": {},
   "outputs": [
    {
     "data": {
      "text/html": [
       "<div>\n",
       "<style scoped>\n",
       "    .dataframe tbody tr th:only-of-type {\n",
       "        vertical-align: middle;\n",
       "    }\n",
       "\n",
       "    .dataframe tbody tr th {\n",
       "        vertical-align: top;\n",
       "    }\n",
       "\n",
       "    .dataframe thead th {\n",
       "        text-align: right;\n",
       "    }\n",
       "</style>\n",
       "<table border=\"1\" class=\"dataframe\">\n",
       "  <thead>\n",
       "    <tr style=\"text-align: right;\">\n",
       "      <th></th>\n",
       "      <th>Accompanying_children</th>\n",
       "    </tr>\n",
       "  </thead>\n",
       "  <tbody>\n",
       "    <tr>\n",
       "      <th>Yes</th>\n",
       "      <td>52</td>\n",
       "    </tr>\n",
       "    <tr>\n",
       "      <th>Sometimes</th>\n",
       "      <td>4</td>\n",
       "    </tr>\n",
       "  </tbody>\n",
       "</table>\n",
       "</div>"
      ],
      "text/plain": [
       "           Accompanying_children\n",
       "Yes                           52\n",
       "Sometimes                      4"
      ]
     },
     "execution_count": 67,
     "metadata": {},
     "output_type": "execute_result"
    }
   ],
   "source": [
    "#Returns object containing counts of unique values : Accompanying_children\n",
    "#Count the frequency of data\n",
    "Accompany_gender= survey_df.Accompanying_children.value_counts().to_frame()\n",
    "Accompany_gender"
   ]
  },
  {
   "cell_type": "code",
   "execution_count": 68,
   "id": "cb12b78d",
   "metadata": {},
   "outputs": [
    {
     "data": {
      "image/png": "[encoded data removed]",
      "text/plain": [
       "<Figure size 360x360 with 1 Axes>"
      ]
     },
     "metadata": {},
     "output_type": "display_data"
    }
   ],
   "source": [
    "#Create a pie graph\n",
    "Accompany_gender= survey_df.Accompanying_children.value_counts()\n",
    "plt.figure(figsize = (5,5))                                                                                           #กำหนดขนาดของกราฟ\n",
    "plt.title('Do you acccompany your children to school?')    #set the title of the graph\n",
    "\n",
    "plt.pie(Accompany_gender, labels = Accompany_gender.index,\n",
    "        autopct = '%1.1f%%',                                                                                          #autopct กำหนดทศนิยมข้อมูลให้เป็น 1 ตำแหน้ง\n",
    "        startangle = 90);    "
   ]
  },
  {
   "cell_type": "markdown",
   "id": "82207f45",
   "metadata": {},
   "source": [
    "\n",
    "This graph shows that over 92.9% of all parents choose to go to school with their children. This may be consistent with the information that most children are nursery or primary school children, making parents choose to go to school with their children for safety reasons."
   ]
  },
  {
   "cell_type": "markdown",
   "id": "8125138f",
   "metadata": {},
   "source": [
    "### 12.Reasons_Accompanying"
   ]
  },
  {
   "cell_type": "code",
   "execution_count": 69,
   "id": "5bb82c6a",
   "metadata": {},
   "outputs": [
    {
     "data": {
      "text/html": [
       "<div>\n",
       "<style scoped>\n",
       "    .dataframe tbody tr th:only-of-type {\n",
       "        vertical-align: middle;\n",
       "    }\n",
       "\n",
       "    .dataframe tbody tr th {\n",
       "        vertical-align: top;\n",
       "    }\n",
       "\n",
       "    .dataframe thead th {\n",
       "        text-align: right;\n",
       "    }\n",
       "</style>\n",
       "<table border=\"1\" class=\"dataframe\">\n",
       "  <thead>\n",
       "    <tr style=\"text-align: right;\">\n",
       "      <th></th>\n",
       "      <th>0</th>\n",
       "      <th>1</th>\n",
       "      <th>2</th>\n",
       "      <th>3</th>\n",
       "      <th>4</th>\n",
       "      <th>5</th>\n",
       "      <th>6</th>\n",
       "      <th>7</th>\n",
       "    </tr>\n",
       "  </thead>\n",
       "  <tbody>\n",
       "    <tr>\n",
       "      <th>0</th>\n",
       "      <td>Traffic danger</td>\n",
       "      <td>Convenient to accompany the child</td>\n",
       "      <td>None</td>\n",
       "      <td>None</td>\n",
       "      <td>None</td>\n",
       "      <td>None</td>\n",
       "      <td>None</td>\n",
       "      <td>None</td>\n",
       "    </tr>\n",
       "    <tr>\n",
       "      <th>1</th>\n",
       "      <td>Too young to travel alone</td>\n",
       "      <td>Traffic danger</td>\n",
       "      <td>Child might get lost</td>\n",
       "      <td>None</td>\n",
       "      <td>None</td>\n",
       "      <td>None</td>\n",
       "      <td>None</td>\n",
       "      <td>None</td>\n",
       "    </tr>\n",
       "    <tr>\n",
       "      <th>2</th>\n",
       "      <td>Too young to travel alone</td>\n",
       "      <td>Child might not arrive on time</td>\n",
       "      <td>None</td>\n",
       "      <td>None</td>\n",
       "      <td>None</td>\n",
       "      <td>None</td>\n",
       "      <td>None</td>\n",
       "      <td>None</td>\n",
       "    </tr>\n",
       "    <tr>\n",
       "      <th>3</th>\n",
       "      <td>Too young to travel alone</td>\n",
       "      <td>Traffic danger</td>\n",
       "      <td>Convenient to accompany the child</td>\n",
       "      <td>Child might not arrive on time</td>\n",
       "      <td>Fear of assault</td>\n",
       "      <td>Other</td>\n",
       "      <td>None</td>\n",
       "      <td>None</td>\n",
       "    </tr>\n",
       "    <tr>\n",
       "      <th>4</th>\n",
       "      <td>Too young to travel alone</td>\n",
       "      <td>Traffic danger</td>\n",
       "      <td>Child might not arrive on time</td>\n",
       "      <td>None</td>\n",
       "      <td>None</td>\n",
       "      <td>None</td>\n",
       "      <td>None</td>\n",
       "      <td>None</td>\n",
       "    </tr>\n",
       "  </tbody>\n",
       "</table>\n",
       "</div>"
      ],
      "text/plain": [
       "                           0                                  1  \\\n",
       "0             Traffic danger  Convenient to accompany the child   \n",
       "1  Too young to travel alone                     Traffic danger   \n",
       "2  Too young to travel alone     Child might not arrive on time   \n",
       "3  Too young to travel alone                     Traffic danger   \n",
       "4  Too young to travel alone                     Traffic danger   \n",
       "\n",
       "                                   2                               3  \\\n",
       "0                               None                            None   \n",
       "1               Child might get lost                            None   \n",
       "2                               None                            None   \n",
       "3  Convenient to accompany the child  Child might not arrive on time   \n",
       "4     Child might not arrive on time                            None   \n",
       "\n",
       "                 4      5     6     7  \n",
       "0             None   None  None  None  \n",
       "1             None   None  None  None  \n",
       "2             None   None  None  None  \n",
       "3  Fear of assault  Other  None  None  \n",
       "4             None   None  None  None  "
      ]
     },
     "execution_count": 69,
     "metadata": {},
     "output_type": "execute_result"
    }
   ],
   "source": [
    "#Splits data for multiple answers. If the data contains ',', \n",
    "#split the answer to another column with the split function\n",
    "reason_of_accompanying_list = survey_df['Reasons_Accompanying'].str.split(',', expand=True)\n",
    "reason_of_accompanying_list.head()"
   ]
  },
  {
   "cell_type": "code",
   "execution_count": 70,
   "id": "3cf6f866",
   "metadata": {},
   "outputs": [
    {
     "data": {
      "text/plain": [
       "id  accompanying_group\n",
       "0   0                                        Traffic danger\n",
       "    1                     Convenient to accompany the child\n",
       "1   0                             Too young to travel alone\n",
       "    1                                        Traffic danger\n",
       "    2                                  Child might get lost\n",
       "Name: Accompanying_Group, dtype: object"
      ]
     },
     "execution_count": 70,
     "metadata": {},
     "output_type": "execute_result"
    }
   ],
   "source": [
    "#Stack columns into a single variables\n",
    "#Create the multiple answer in the same column for easy counting\n",
    "reason_of_accompanying_list = reason_of_accompanying_list.stack()          # This create a multi-index\n",
    "reason_of_accompanying_list.name = 'Accompanying_Group'                    # Name the derived variable\n",
    "reason_of_accompanying_list.index.names = ['id', 'accompanying_group']     # Name multi-index dimensions\n",
    "reason_of_accompanying_list.head()"
   ]
  },
  {
   "cell_type": "code",
   "execution_count": 71,
   "id": "f76e1196",
   "metadata": {},
   "outputs": [
    {
     "data": {
      "text/plain": [
       "Too young to travel alone            49\n",
       "Traffic danger                       24\n",
       "Fear of assault                      12\n",
       "School too far away                  10\n",
       "Child might not arrive on time       10\n",
       "Child might get lost                  9\n",
       "Convenient to accompany the child     8\n",
       "Other                                 3\n",
       "Name: Accompanying_Group, dtype: int64"
      ]
     },
     "execution_count": 71,
     "metadata": {},
     "output_type": "execute_result"
    }
   ],
   "source": [
    "#Returns object containing counts of unique values \n",
    "#Count the frequency of data\n",
    "reason_of_accompanying_count = reason_of_accompanying_list.value_counts()\n",
    "reason_of_accompanying_count"
   ]
  },
  {
   "cell_type": "code",
   "execution_count": 72,
   "id": "5037c971",
   "metadata": {},
   "outputs": [
    {
     "data": {
      "text/plain": [
       "125"
      ]
     },
     "execution_count": 72,
     "metadata": {},
     "output_type": "execute_result"
    }
   ],
   "source": [
    "#Count the total number\n",
    "total_reason_of_accompanying_count = reason_of_accompanying_count.values.sum()\n",
    "total_reason_of_accompanying_count"
   ]
  },
  {
   "cell_type": "code",
   "execution_count": 73,
   "id": "0389191f",
   "metadata": {},
   "outputs": [
    {
     "data": {
      "text/html": [
       "<div>\n",
       "<style scoped>\n",
       "    .dataframe tbody tr th:only-of-type {\n",
       "        vertical-align: middle;\n",
       "    }\n",
       "\n",
       "    .dataframe tbody tr th {\n",
       "        vertical-align: top;\n",
       "    }\n",
       "\n",
       "    .dataframe thead th {\n",
       "        text-align: right;\n",
       "    }\n",
       "</style>\n",
       "<table border=\"1\" class=\"dataframe\">\n",
       "  <thead>\n",
       "    <tr style=\"text-align: right;\">\n",
       "      <th></th>\n",
       "      <th>Accompanying_Group</th>\n",
       "    </tr>\n",
       "  </thead>\n",
       "  <tbody>\n",
       "    <tr>\n",
       "      <th>Too young to travel alone</th>\n",
       "      <td>39.2</td>\n",
       "    </tr>\n",
       "    <tr>\n",
       "      <th>Traffic danger</th>\n",
       "      <td>19.2</td>\n",
       "    </tr>\n",
       "    <tr>\n",
       "      <th>Fear of assault</th>\n",
       "      <td>9.6</td>\n",
       "    </tr>\n",
       "    <tr>\n",
       "      <th>School too far away</th>\n",
       "      <td>8.0</td>\n",
       "    </tr>\n",
       "    <tr>\n",
       "      <th>Child might not arrive on time</th>\n",
       "      <td>8.0</td>\n",
       "    </tr>\n",
       "    <tr>\n",
       "      <th>Child might get lost</th>\n",
       "      <td>7.2</td>\n",
       "    </tr>\n",
       "    <tr>\n",
       "      <th>Convenient to accompany the child</th>\n",
       "      <td>6.4</td>\n",
       "    </tr>\n",
       "    <tr>\n",
       "      <th>Other</th>\n",
       "      <td>2.4</td>\n",
       "    </tr>\n",
       "  </tbody>\n",
       "</table>\n",
       "</div>"
      ],
      "text/plain": [
       "                                   Accompanying_Group\n",
       "Too young to travel alone                        39.2\n",
       "Traffic danger                                   19.2\n",
       "Fear of assault                                   9.6\n",
       "School too far away                               8.0\n",
       "Child might not arrive on time                    8.0\n",
       "Child might get lost                              7.2\n",
       "Convenient to accompany the child                 6.4\n",
       "Other                                             2.4"
      ]
     },
     "execution_count": 73,
     "metadata": {},
     "output_type": "execute_result"
    }
   ],
   "source": [
    "#Calculate the percentage of each Reasons Accompanying\n",
    "reason_of_accompanying_count_pct = reason_of_accompanying_count *100 / total_reason_of_accompanying_count\n",
    "reason_of_accompanying_count_pct.to_frame()"
   ]
  },
  {
   "cell_type": "code",
   "execution_count": 74,
   "id": "ce86b4cc",
   "metadata": {},
   "outputs": [
    {
     "data": {
      "image/png": "[encoded data removed]",
      "text/plain": [
       "<Figure size 720x432 with 1 Axes>"
      ]
     },
     "metadata": {
      "needs_background": "light"
     },
     "output_type": "display_data"
    }
   ],
   "source": [
    "#Plot a barh graph of in horizontal format using barplot in seaborn library\n",
    "plt.figure(figsize=(10,6))                                #set the size of the diagram to 10*6      \n",
    "colors_list = ['green','Orange', 'Blue', 'Purple']       #set the color for the graph\n",
    "graph = plt.barh(reason_of_accompanying_count.index,\n",
    "                 reason_of_accompanying_count,\n",
    "                 color = colors_list)\n",
    "plt.title('Resons for accompany your children? Tick All that apply')    #set the title of the graph\n",
    "plt.xlabel('Count');  "
   ]
  },
  {
   "cell_type": "markdown",
   "id": "bf9928b2",
   "metadata": {},
   "source": [
    "\n",
    "This graph shows that the main reason for going to school with children is because the children are too young to travel alone followed by traffic danger."
   ]
  },
  {
   "cell_type": "markdown",
   "id": "12e63920",
   "metadata": {},
   "source": [
    "### 13.Satisfaction"
   ]
  },
  {
   "cell_type": "code",
   "execution_count": 75,
   "id": "674aad7f",
   "metadata": {},
   "outputs": [
    {
     "data": {
      "text/plain": [
       "Very satisfied        30\n",
       "Fairly satisfied       8\n",
       "Very unsatisfied       7\n",
       "Fairly unsatisfied     6\n",
       "Neither / Nor          5\n",
       "Name: Satisfaction, dtype: int64"
      ]
     },
     "execution_count": 75,
     "metadata": {},
     "output_type": "execute_result"
    }
   ],
   "source": [
    "#Returns object containing counts of unique values : Satisfaction\n",
    "#Count the frequency of data\n",
    "satisffaction_count= survey_df['Satisfaction'].value_counts()\n",
    "satisffaction_count"
   ]
  },
  {
   "cell_type": "code",
   "execution_count": 76,
   "id": "0a6bdc7f",
   "metadata": {},
   "outputs": [
    {
     "data": {
      "text/plain": [
       "56"
      ]
     },
     "execution_count": 76,
     "metadata": {},
     "output_type": "execute_result"
    }
   ],
   "source": [
    "#Count the total number\n",
    "total_satisffaction_count = satisffaction_count.values.sum()\n",
    "total_satisffaction_count"
   ]
  },
  {
   "cell_type": "code",
   "execution_count": 77,
   "id": "b533c55b",
   "metadata": {},
   "outputs": [
    {
     "data": {
      "text/html": [
       "<div>\n",
       "<style scoped>\n",
       "    .dataframe tbody tr th:only-of-type {\n",
       "        vertical-align: middle;\n",
       "    }\n",
       "\n",
       "    .dataframe tbody tr th {\n",
       "        vertical-align: top;\n",
       "    }\n",
       "\n",
       "    .dataframe thead th {\n",
       "        text-align: right;\n",
       "    }\n",
       "</style>\n",
       "<table border=\"1\" class=\"dataframe\">\n",
       "  <thead>\n",
       "    <tr style=\"text-align: right;\">\n",
       "      <th></th>\n",
       "      <th>Satisfaction</th>\n",
       "    </tr>\n",
       "  </thead>\n",
       "  <tbody>\n",
       "    <tr>\n",
       "      <th>Very satisfied</th>\n",
       "      <td>53.571429</td>\n",
       "    </tr>\n",
       "    <tr>\n",
       "      <th>Fairly satisfied</th>\n",
       "      <td>14.285714</td>\n",
       "    </tr>\n",
       "    <tr>\n",
       "      <th>Very unsatisfied</th>\n",
       "      <td>12.500000</td>\n",
       "    </tr>\n",
       "    <tr>\n",
       "      <th>Fairly unsatisfied</th>\n",
       "      <td>10.714286</td>\n",
       "    </tr>\n",
       "    <tr>\n",
       "      <th>Neither / Nor</th>\n",
       "      <td>8.928571</td>\n",
       "    </tr>\n",
       "  </tbody>\n",
       "</table>\n",
       "</div>"
      ],
      "text/plain": [
       "                    Satisfaction\n",
       "Very satisfied         53.571429\n",
       "Fairly satisfied       14.285714\n",
       "Very unsatisfied       12.500000\n",
       "Fairly unsatisfied     10.714286\n",
       "Neither / Nor           8.928571"
      ]
     },
     "execution_count": 77,
     "metadata": {},
     "output_type": "execute_result"
    }
   ],
   "source": [
    "#Calculate the percentage of each satisffaction\n",
    "satisffaction_count_pct = satisffaction_count * 100 / total_satisffaction_count\n",
    "satisffaction_count_pct.to_frame()"
   ]
  },
  {
   "cell_type": "code",
   "execution_count": 78,
   "id": "1421362f",
   "metadata": {},
   "outputs": [
    {
     "data": {
      "image/png": "[encoded data removed]",
      "text/plain": [
       "<Figure size 432x288 with 1 Axes>"
      ]
     },
     "metadata": {
      "needs_background": "light"
     },
     "output_type": "display_data"
    }
   ],
   "source": [
    "#Plot a barh graph using barplot in seaborn library      \n",
    "satisffaction_count = survey_df['Satisfaction'].value_counts()\n",
    "sns.barplot(x = satisffaction_count, y = satisffaction_count.index)\n",
    "\n",
    "plt.title('Satisfiction level')                                           #set the title of the graph  \n",
    "plt.xlabel('Count')                                                       #label the axes x\n",
    "plt.ylabel(None);                                                         #label the axes y"
   ]
  },
  {
   "cell_type": "markdown",
   "id": "4650fe4d",
   "metadata": {},
   "source": [
    "The graph shows that most of the respondents had travel satisfaction, either Farily or Very, from 14.29% and 53.57%.  Answering as Very unsatisfied were 12.5% of respondents."
   ]
  },
  {
   "cell_type": "markdown",
   "id": "a3279c36",
   "metadata": {},
   "source": [
    "### 14.Age + Gender"
   ]
  },
  {
   "cell_type": "code",
   "execution_count": 79,
   "id": "2ffaf29c",
   "metadata": {},
   "outputs": [
    {
     "data": {
      "text/html": [
       "<div>\n",
       "<style scoped>\n",
       "    .dataframe tbody tr th:only-of-type {\n",
       "        vertical-align: middle;\n",
       "    }\n",
       "\n",
       "    .dataframe tbody tr th {\n",
       "        vertical-align: top;\n",
       "    }\n",
       "\n",
       "    .dataframe thead tr th {\n",
       "        text-align: left;\n",
       "    }\n",
       "\n",
       "    .dataframe thead tr:last-of-type th {\n",
       "        text-align: right;\n",
       "    }\n",
       "</style>\n",
       "<table border=\"1\" class=\"dataframe\">\n",
       "  <thead>\n",
       "    <tr>\n",
       "      <th></th>\n",
       "      <th colspan=\"2\" halign=\"left\">count</th>\n",
       "    </tr>\n",
       "    <tr>\n",
       "      <th>Gender</th>\n",
       "      <th>Female</th>\n",
       "      <th>Male</th>\n",
       "    </tr>\n",
       "    <tr>\n",
       "      <th>Age</th>\n",
       "      <th></th>\n",
       "      <th></th>\n",
       "    </tr>\n",
       "  </thead>\n",
       "  <tbody>\n",
       "    <tr>\n",
       "      <th>20 - 29 years</th>\n",
       "      <td>2</td>\n",
       "      <td>2</td>\n",
       "    </tr>\n",
       "    <tr>\n",
       "      <th>30 - 39 years</th>\n",
       "      <td>15</td>\n",
       "      <td>8</td>\n",
       "    </tr>\n",
       "    <tr>\n",
       "      <th>40 - 49 years</th>\n",
       "      <td>17</td>\n",
       "      <td>6</td>\n",
       "    </tr>\n",
       "    <tr>\n",
       "      <th>50 - 65 years</th>\n",
       "      <td>1</td>\n",
       "      <td>5</td>\n",
       "    </tr>\n",
       "  </tbody>\n",
       "</table>\n",
       "</div>"
      ],
      "text/plain": [
       "               count     \n",
       "Gender        Female Male\n",
       "Age                      \n",
       "20 - 29 years      2    2\n",
       "30 - 39 years     15    8\n",
       "40 - 49 years     17    6\n",
       "50 - 65 years      1    5"
      ]
     },
     "execution_count": 79,
     "metadata": {},
     "output_type": "execute_result"
    }
   ],
   "source": [
    "#Create a pivot table to summarise data between Age and Gender\n",
    "pv = survey_df.pivot_table(index = 'Age', \n",
    "                           columns = ['Gender'], \n",
    "                           values = ['id'],\n",
    "                           aggfunc = 'count').rename(columns = {'id':'count'})  #reanme = Rename function (id to count) \n",
    "                                                                                #aggfunc = definition function (count) \n",
    "pv"
   ]
  },
  {
   "cell_type": "code",
   "execution_count": 80,
   "id": "941ebda1",
   "metadata": {},
   "outputs": [
    {
     "data": {
      "text/plain": [
       "<Figure size 432x432 with 0 Axes>"
      ]
     },
     "metadata": {},
     "output_type": "display_data"
    },
    {
     "data": {
      "image/png": "[encoded data removed]",
      "text/plain": [
       "<Figure size 432x288 with 1 Axes>"
      ]
     },
     "metadata": {
      "needs_background": "light"
     },
     "output_type": "display_data"
    }
   ],
   "source": [
    "#Take the frequency data to create a pie graph\n",
    "plt.figure(figsize=(6,6))                              #set the size of the diagram to 6*6  \n",
    "\n",
    "pv.plot.bar()                                          #create the graph\n",
    "plt.legend(['Female','Male'])                          #Use the legend to display the names used to divide the bar graph\n",
    "plt.xticks(rotation=45)                                #rotation the name text 45 degrees\n",
    "\n",
    "\n",
    "plt.title('Number of respondence for each age range')  #set the title of the graph \n",
    "plt.xlabel('Age range')                                #label the axes x\n",
    "plt.ylabel('Number of respondence')                    #label the axes y\n",
    "\n",
    "plt.show();"
   ]
  },
  {
   "cell_type": "markdown",
   "id": "4bb268bc",
   "metadata": {},
   "source": [
    "### 15. Children_Age_Group + mode_of_travel"
   ]
  },
  {
   "cell_type": "code",
   "execution_count": 81,
   "id": "6aab4ecd",
   "metadata": {},
   "outputs": [],
   "source": [
    "#Create a new variable\n",
    "child_frame = child_age_group_list.to_frame()                                #from child_age_group_list and create a new variable\n",
    "New_child_frame = child_frame.join(mode_of_travel_list).reset_index()        #join table and ceate new variable"
   ]
  },
  {
   "cell_type": "code",
   "execution_count": 82,
   "id": "bf859910",
   "metadata": {},
   "outputs": [],
   "source": [
    "New_child_frame.drop(columns = ['age_group','mode_travel'], inplace=True)    #remove column age_group and mode_travel"
   ]
  },
  {
   "cell_type": "code",
   "execution_count": 83,
   "id": "344eb8ba",
   "metadata": {},
   "outputs": [
    {
     "data": {
      "text/html": [
       "<div>\n",
       "<style scoped>\n",
       "    .dataframe tbody tr th:only-of-type {\n",
       "        vertical-align: middle;\n",
       "    }\n",
       "\n",
       "    .dataframe tbody tr th {\n",
       "        vertical-align: top;\n",
       "    }\n",
       "\n",
       "    .dataframe thead th {\n",
       "        text-align: right;\n",
       "    }\n",
       "</style>\n",
       "<table border=\"1\" class=\"dataframe\">\n",
       "  <thead>\n",
       "    <tr style=\"text-align: right;\">\n",
       "      <th></th>\n",
       "      <th>id</th>\n",
       "      <th>Children_Group</th>\n",
       "      <th>mode_of_travel_Group</th>\n",
       "    </tr>\n",
       "  </thead>\n",
       "  <tbody>\n",
       "    <tr>\n",
       "      <th>0</th>\n",
       "      <td>0</td>\n",
       "      <td>Nursery / Pre-school / Day care</td>\n",
       "      <td>Walking</td>\n",
       "    </tr>\n",
       "    <tr>\n",
       "      <th>1</th>\n",
       "      <td>0</td>\n",
       "      <td>Nursery / Pre-school / Day care</td>\n",
       "      <td>Cycling</td>\n",
       "    </tr>\n",
       "    <tr>\n",
       "      <th>2</th>\n",
       "      <td>0</td>\n",
       "      <td>Primary School</td>\n",
       "      <td>Walking</td>\n",
       "    </tr>\n",
       "    <tr>\n",
       "      <th>3</th>\n",
       "      <td>0</td>\n",
       "      <td>Primary School</td>\n",
       "      <td>Cycling</td>\n",
       "    </tr>\n",
       "    <tr>\n",
       "      <th>4</th>\n",
       "      <td>1</td>\n",
       "      <td>Primary School</td>\n",
       "      <td>Walking</td>\n",
       "    </tr>\n",
       "  </tbody>\n",
       "</table>\n",
       "</div>"
      ],
      "text/plain": [
       "   id                   Children_Group mode_of_travel_Group\n",
       "0   0  Nursery / Pre-school / Day care              Walking\n",
       "1   0  Nursery / Pre-school / Day care              Cycling\n",
       "2   0                   Primary School              Walking\n",
       "3   0                   Primary School              Cycling\n",
       "4   1                   Primary School              Walking"
      ]
     },
     "execution_count": 83,
     "metadata": {},
     "output_type": "execute_result"
    }
   ],
   "source": [
    "##re-check data frame\n",
    "New_child_frame.head()"
   ]
  },
  {
   "cell_type": "code",
   "execution_count": 84,
   "id": "ed7e2804",
   "metadata": {},
   "outputs": [
    {
     "data": {
      "text/html": [
       "<div>\n",
       "<style scoped>\n",
       "    .dataframe tbody tr th:only-of-type {\n",
       "        vertical-align: middle;\n",
       "    }\n",
       "\n",
       "    .dataframe tbody tr th {\n",
       "        vertical-align: top;\n",
       "    }\n",
       "\n",
       "    .dataframe thead tr th {\n",
       "        text-align: left;\n",
       "    }\n",
       "\n",
       "    .dataframe thead tr:last-of-type th {\n",
       "        text-align: right;\n",
       "    }\n",
       "</style>\n",
       "<table border=\"1\" class=\"dataframe\">\n",
       "  <thead>\n",
       "    <tr>\n",
       "      <th></th>\n",
       "      <th colspan=\"5\" halign=\"left\">count</th>\n",
       "    </tr>\n",
       "    <tr>\n",
       "      <th>mode_of_travel_Group</th>\n",
       "      <th>Car</th>\n",
       "      <th>Cycling</th>\n",
       "      <th>Local public transport</th>\n",
       "      <th>Other</th>\n",
       "      <th>Walking</th>\n",
       "    </tr>\n",
       "    <tr>\n",
       "      <th>Children_Group</th>\n",
       "      <th></th>\n",
       "      <th></th>\n",
       "      <th></th>\n",
       "      <th></th>\n",
       "      <th></th>\n",
       "    </tr>\n",
       "  </thead>\n",
       "  <tbody>\n",
       "    <tr>\n",
       "      <th>Nursery / Pre-school / Day care</th>\n",
       "      <td>12</td>\n",
       "      <td>8</td>\n",
       "      <td>3</td>\n",
       "      <td>0</td>\n",
       "      <td>22</td>\n",
       "    </tr>\n",
       "    <tr>\n",
       "      <th>Primary School</th>\n",
       "      <td>13</td>\n",
       "      <td>11</td>\n",
       "      <td>3</td>\n",
       "      <td>3</td>\n",
       "      <td>35</td>\n",
       "    </tr>\n",
       "    <tr>\n",
       "      <th>Secondary School</th>\n",
       "      <td>0</td>\n",
       "      <td>0</td>\n",
       "      <td>0</td>\n",
       "      <td>0</td>\n",
       "      <td>3</td>\n",
       "    </tr>\n",
       "  </tbody>\n",
       "</table>\n",
       "</div>"
      ],
      "text/plain": [
       "                                count                                       \\\n",
       "mode_of_travel_Group              Car Cycling Local public transport Other   \n",
       "Children_Group                                                               \n",
       "Nursery / Pre-school / Day care    12       8                      3     0   \n",
       "Primary School                     13      11                      3     3   \n",
       "Secondary School                    0       0                      0     0   \n",
       "\n",
       "                                         \n",
       "mode_of_travel_Group            Walking  \n",
       "Children_Group                           \n",
       "Nursery / Pre-school / Day care      22  \n",
       "Primary School                       35  \n",
       "Secondary School                      3  "
      ]
     },
     "execution_count": 84,
     "metadata": {},
     "output_type": "execute_result"
    }
   ],
   "source": [
    "pv5 = New_child_frame.pivot_table(index = ['Children_Group'],\n",
    "                           columns = ['mode_of_travel_Group'],\n",
    "                           aggfunc='count',\n",
    "                           fill_value = 0).rename(columns = {'id':'count'})   #reanme = id to count \n",
    "                                                                              #aggfunc = funcion method (count)\n",
    "                                                                              #fill_value empty spaces to numbers 0\n",
    "pv5"
   ]
  },
  {
   "cell_type": "code",
   "execution_count": 85,
   "id": "8461bf17",
   "metadata": {},
   "outputs": [
    {
     "data": {
      "text/plain": [
       "<Figure size 576x576 with 0 Axes>"
      ]
     },
     "metadata": {},
     "output_type": "display_data"
    },
    {
     "data": {
      "image/png": "[encoded data removed]",
      "text/plain": [
       "<Figure size 432x288 with 1 Axes>"
      ]
     },
     "metadata": {
      "needs_background": "light"
     },
     "output_type": "display_data"
    }
   ],
   "source": [
    "plt.figure(figsize = (8,8))                                                  ##set the size of the diagram to 6*6                                                  \n",
    "\n",
    "pv5.plot.bar()                                                               #create the graph\n",
    "plt.legend(['Car','Cycling','Local public transport','Other','Walking'])     #Use the legend to display the names used to divide the bar graph\n",
    "plt.xticks(rotation = 45)                                                    #rotation the text 45 degrees\n",
    "\n",
    "plt.title('Traveling mode of each child groups')                             #set the title of the graph\n",
    "plt.xlabel('Mode of travel for each Clildren group')                         #label the axes x\n",
    "plt.ylabel('Number of respondence')                                          #label the axes y\n",
    "\n",
    "plt.show();"
   ]
  },
  {
   "cell_type": "markdown",
   "id": "f571cc04",
   "metadata": {},
   "source": [
    "The graph shows that for every children group, the main mode of travel is walking. Another popular mode for Nursery and Primary school children is driving and cycling.  And it can be seen that Secondary school students have only one way to travel, which is walking."
   ]
  },
  {
   "cell_type": "markdown",
   "id": "0b73a41a",
   "metadata": {},
   "source": [
    "### 16.Children_Group + Reason_travel"
   ]
  },
  {
   "cell_type": "code",
   "execution_count": 87,
   "id": "d4f6b702",
   "metadata": {},
   "outputs": [],
   "source": [
    "#Create a new variable\n",
    "child_frame_2 = child_age_group_list.to_frame()                                  #from child_age_group_list and create a new variable\n",
    "New_child_frame_2 = child_frame_2.join(reason_of_travel_list).reset_index()      #join table of age_group and reason_of_travel_list to ceate new variable"
   ]
  },
  {
   "cell_type": "code",
   "execution_count": 88,
   "id": "cda50bb8",
   "metadata": {},
   "outputs": [],
   "source": [
    "New_child_frame_2.drop(columns = ['age_group','reason_travel'], inplace=True)    #remove column age_group and reason_travel"
   ]
  },
  {
   "cell_type": "code",
   "execution_count": 89,
   "id": "d5e2fc7c",
   "metadata": {},
   "outputs": [
    {
     "data": {
      "text/html": [
       "<div>\n",
       "<style scoped>\n",
       "    .dataframe tbody tr th:only-of-type {\n",
       "        vertical-align: middle;\n",
       "    }\n",
       "\n",
       "    .dataframe tbody tr th {\n",
       "        vertical-align: top;\n",
       "    }\n",
       "\n",
       "    .dataframe thead th {\n",
       "        text-align: right;\n",
       "    }\n",
       "</style>\n",
       "<table border=\"1\" class=\"dataframe\">\n",
       "  <thead>\n",
       "    <tr style=\"text-align: right;\">\n",
       "      <th></th>\n",
       "      <th>id</th>\n",
       "      <th>Children_Group</th>\n",
       "      <th>Reason_of_travel_Group</th>\n",
       "    </tr>\n",
       "  </thead>\n",
       "  <tbody>\n",
       "    <tr>\n",
       "      <th>0</th>\n",
       "      <td>0</td>\n",
       "      <td>Nursery / Pre-school / Day care</td>\n",
       "      <td>It is good for my child’s health and wellbeing</td>\n",
       "    </tr>\n",
       "    <tr>\n",
       "      <th>1</th>\n",
       "      <td>0</td>\n",
       "      <td>Nursery / Pre-school / Day care</td>\n",
       "      <td>It is good for Environment</td>\n",
       "    </tr>\n",
       "    <tr>\n",
       "      <th>2</th>\n",
       "      <td>0</td>\n",
       "      <td>Primary School</td>\n",
       "      <td>It is good for my child’s health and wellbeing</td>\n",
       "    </tr>\n",
       "    <tr>\n",
       "      <th>3</th>\n",
       "      <td>0</td>\n",
       "      <td>Primary School</td>\n",
       "      <td>It is good for Environment</td>\n",
       "    </tr>\n",
       "    <tr>\n",
       "      <th>4</th>\n",
       "      <td>1</td>\n",
       "      <td>Primary School</td>\n",
       "      <td>It is good for my child’s health and wellbeing</td>\n",
       "    </tr>\n",
       "  </tbody>\n",
       "</table>\n",
       "</div>"
      ],
      "text/plain": [
       "   id                   Children_Group  \\\n",
       "0   0  Nursery / Pre-school / Day care   \n",
       "1   0  Nursery / Pre-school / Day care   \n",
       "2   0                   Primary School   \n",
       "3   0                   Primary School   \n",
       "4   1                   Primary School   \n",
       "\n",
       "                           Reason_of_travel_Group  \n",
       "0  It is good for my child’s health and wellbeing  \n",
       "1                      It is good for Environment  \n",
       "2  It is good for my child’s health and wellbeing  \n",
       "3                      It is good for Environment  \n",
       "4  It is good for my child’s health and wellbeing  "
      ]
     },
     "execution_count": 89,
     "metadata": {},
     "output_type": "execute_result"
    }
   ],
   "source": [
    "#re-check data frame\n",
    "New_child_frame_2.head()"
   ]
  },
  {
   "cell_type": "code",
   "execution_count": 90,
   "id": "07268d75",
   "metadata": {},
   "outputs": [
    {
     "data": {
      "text/html": [
       "<div>\n",
       "<style scoped>\n",
       "    .dataframe tbody tr th:only-of-type {\n",
       "        vertical-align: middle;\n",
       "    }\n",
       "\n",
       "    .dataframe tbody tr th {\n",
       "        vertical-align: top;\n",
       "    }\n",
       "\n",
       "    .dataframe thead tr th {\n",
       "        text-align: left;\n",
       "    }\n",
       "\n",
       "    .dataframe thead tr:last-of-type th {\n",
       "        text-align: right;\n",
       "    }\n",
       "</style>\n",
       "<table border=\"1\" class=\"dataframe\">\n",
       "  <thead>\n",
       "    <tr>\n",
       "      <th></th>\n",
       "      <th colspan=\"8\" halign=\"left\">count</th>\n",
       "    </tr>\n",
       "    <tr>\n",
       "      <th>Reason_of_travel_Group</th>\n",
       "      <th>He/she cannot get there any other way</th>\n",
       "      <th>It is good for Environment</th>\n",
       "      <th>It is good for my child’s health and wellbeing</th>\n",
       "      <th>It is the cheapest</th>\n",
       "      <th>It is the fastest</th>\n",
       "      <th>It is the safest</th>\n",
       "      <th>It is too far to use any other mode</th>\n",
       "      <th>The distance is too short to use any other mode</th>\n",
       "    </tr>\n",
       "    <tr>\n",
       "      <th>Children_Group</th>\n",
       "      <th></th>\n",
       "      <th></th>\n",
       "      <th></th>\n",
       "      <th></th>\n",
       "      <th></th>\n",
       "      <th></th>\n",
       "      <th></th>\n",
       "      <th></th>\n",
       "    </tr>\n",
       "  </thead>\n",
       "  <tbody>\n",
       "    <tr>\n",
       "      <th>Nursery / Pre-school / Day care</th>\n",
       "      <td>4</td>\n",
       "      <td>12</td>\n",
       "      <td>16</td>\n",
       "      <td>6</td>\n",
       "      <td>20</td>\n",
       "      <td>7</td>\n",
       "      <td>2</td>\n",
       "      <td>17</td>\n",
       "    </tr>\n",
       "    <tr>\n",
       "      <th>Primary School</th>\n",
       "      <td>3</td>\n",
       "      <td>25</td>\n",
       "      <td>27</td>\n",
       "      <td>14</td>\n",
       "      <td>31</td>\n",
       "      <td>14</td>\n",
       "      <td>6</td>\n",
       "      <td>21</td>\n",
       "    </tr>\n",
       "    <tr>\n",
       "      <th>Secondary School</th>\n",
       "      <td>0</td>\n",
       "      <td>1</td>\n",
       "      <td>1</td>\n",
       "      <td>1</td>\n",
       "      <td>1</td>\n",
       "      <td>0</td>\n",
       "      <td>0</td>\n",
       "      <td>2</td>\n",
       "    </tr>\n",
       "  </tbody>\n",
       "</table>\n",
       "</div>"
      ],
      "text/plain": [
       "                                                                count  \\\n",
       "Reason_of_travel_Group          He/she cannot get there any other way   \n",
       "Children_Group                                                          \n",
       "Nursery / Pre-school / Day care                                     4   \n",
       "Primary School                                                      3   \n",
       "Secondary School                                                    0   \n",
       "\n",
       "                                                            \\\n",
       "Reason_of_travel_Group          It is good for Environment   \n",
       "Children_Group                                               \n",
       "Nursery / Pre-school / Day care                         12   \n",
       "Primary School                                          25   \n",
       "Secondary School                                         1   \n",
       "\n",
       "                                                                                \\\n",
       "Reason_of_travel_Group          It is good for my child’s health and wellbeing   \n",
       "Children_Group                                                                   \n",
       "Nursery / Pre-school / Day care                                             16   \n",
       "Primary School                                                              27   \n",
       "Secondary School                                                             1   \n",
       "\n",
       "                                                                      \\\n",
       "Reason_of_travel_Group          It is the cheapest It is the fastest   \n",
       "Children_Group                                                         \n",
       "Nursery / Pre-school / Day care                  6                20   \n",
       "Primary School                                  14                31   \n",
       "Secondary School                                 1                 1   \n",
       "\n",
       "                                                  \\\n",
       "Reason_of_travel_Group          It is the safest   \n",
       "Children_Group                                     \n",
       "Nursery / Pre-school / Day care                7   \n",
       "Primary School                                14   \n",
       "Secondary School                               0   \n",
       "\n",
       "                                                                     \\\n",
       "Reason_of_travel_Group          It is too far to use any other mode   \n",
       "Children_Group                                                        \n",
       "Nursery / Pre-school / Day care                                   2   \n",
       "Primary School                                                    6   \n",
       "Secondary School                                                  0   \n",
       "\n",
       "                                                                                 \n",
       "Reason_of_travel_Group          The distance is too short to use any other mode  \n",
       "Children_Group                                                                   \n",
       "Nursery / Pre-school / Day care                                              17  \n",
       "Primary School                                                               21  \n",
       "Secondary School                                                              2  "
      ]
     },
     "execution_count": 90,
     "metadata": {},
     "output_type": "execute_result"
    }
   ],
   "source": [
    "pv6 = New_child_frame_2.pivot_table(index = 'Children_Group',\n",
    "                                    columns = 'Reason_of_travel_Group',\n",
    "                                    aggfunc='count',\n",
    "                                    fill_value = 0).rename(columns={'id':'count'})   #reanme = id to count \n",
    "                                                                                     #aggfunc = funcion method (count)\n",
    "                                                                                     #fill_value function to set spaces to numbers 0\n",
    "pv6"
   ]
  },
  {
   "cell_type": "code",
   "execution_count": 91,
   "id": "d464b334",
   "metadata": {},
   "outputs": [
    {
     "data": {
      "text/plain": [
       "<Figure size 1440x1440 with 0 Axes>"
      ]
     },
     "metadata": {},
     "output_type": "display_data"
    },
    {
     "data": {
      "image/png": "[encoded data removed]",
      "text/plain": [
       "<Figure size 432x288 with 1 Axes>"
      ]
     },
     "metadata": {
      "needs_background": "light"
     },
     "output_type": "display_data"
    }
   ],
   "source": [
    "plt.figure(figsize = (20,20)) \n",
    "\n",
    "pv6.plot.bar()\n",
    "plt.legend(['He/she cannot ge\\nthere any other way','It is good for\\nEnvironment','It is good for my child’s\\nhealth and wellbeing',\n",
    "           'It is the cheapest','It is the fastest','It is the safest','It is too far to use\\nany other mode','The distance is too short\\nto use any other mode'],\n",
    "           bbox_to_anchor=(1.05,1));                #Use the legend to display the names used to divide the bar graph.\n",
    "                                                    #bbox_to_anchor = pecifies the space to be placed\n",
    "plt.xticks(rotation = 45)                           #rotation the name text 45 degrees\n",
    "\n",
    "plt.title('Traveling reason of each Child group')   #set the title of the graph \n",
    "plt.xlabel('Children group')                        #label the axes x\n",
    "plt.ylabel('Number of respondence')                 #label the axes y\n",
    " \n",
    "plt.show();"
   ]
  },
  {
   "cell_type": "markdown",
   "id": "0c17b63b",
   "metadata": {},
   "source": [
    "The main reason for the way children travel among Nurseries is because is because 'it is the fastest'.  This was followed by the distance being 'too close to use the other method' and 'because it was healthy' respectively.  The reason chosen the least was because 'it was too far to use the other method'.  For primary school children the main reason is because it's the fastest too.  This was followed by 'is because it is healthy' and 'because it is good for the environment' and the least chosen reason 'is because the children cannot travel by any other mode'.\n",
    "But for secondary school children the main reason is different, the main reason 'is because the distance is too close to use other methods' with the other reasons chosen equally; with an except for 'unable to travel by other means', 'safety' and 'distance is too far'.  The number of respondents of secondary school parents was low so further anaylysis of these differences is not possible."
   ]
  },
  {
   "cell_type": "markdown",
   "id": "0dba4878",
   "metadata": {},
   "source": [
    "### 17.Resident_Islington + School_Islington"
   ]
  },
  {
   "cell_type": "code",
   "execution_count": 92,
   "id": "4d0a8ec7",
   "metadata": {},
   "outputs": [
    {
     "data": {
      "text/plain": [
       "Index(['Gender', 'Age', 'Resident_Islington', 'School_Islington',\n",
       "       'Children_Age_Group', 'Distance', 'Travel_Time', 'Mode_of_Travel',\n",
       "       'Purpose_of_Journey', 'Reasons_Mode_of_Travel', 'Accompanying_children',\n",
       "       'Reasons_Accompanying', 'Satisfaction', 'id'],\n",
       "      dtype='object')"
      ]
     },
     "execution_count": 92,
     "metadata": {},
     "output_type": "execute_result"
    }
   ],
   "source": [
    "survey_df.columns"
   ]
  },
  {
   "cell_type": "code",
   "execution_count": 93,
   "id": "37d4fccf",
   "metadata": {},
   "outputs": [
    {
     "data": {
      "text/html": [
       "<div>\n",
       "<style scoped>\n",
       "    .dataframe tbody tr th:only-of-type {\n",
       "        vertical-align: middle;\n",
       "    }\n",
       "\n",
       "    .dataframe tbody tr th {\n",
       "        vertical-align: top;\n",
       "    }\n",
       "\n",
       "    .dataframe thead tr th {\n",
       "        text-align: left;\n",
       "    }\n",
       "\n",
       "    .dataframe thead tr:last-of-type th {\n",
       "        text-align: right;\n",
       "    }\n",
       "</style>\n",
       "<table border=\"1\" class=\"dataframe\">\n",
       "  <thead>\n",
       "    <tr>\n",
       "      <th></th>\n",
       "      <th colspan=\"2\" halign=\"left\">count</th>\n",
       "    </tr>\n",
       "    <tr>\n",
       "      <th>School_Islington</th>\n",
       "      <th>No</th>\n",
       "      <th>Yes</th>\n",
       "    </tr>\n",
       "    <tr>\n",
       "      <th>Resident_Islington</th>\n",
       "      <th></th>\n",
       "      <th></th>\n",
       "    </tr>\n",
       "  </thead>\n",
       "  <tbody>\n",
       "    <tr>\n",
       "      <th>No</th>\n",
       "      <td>24</td>\n",
       "      <td>2</td>\n",
       "    </tr>\n",
       "    <tr>\n",
       "      <th>Yes</th>\n",
       "      <td>0</td>\n",
       "      <td>30</td>\n",
       "    </tr>\n",
       "  </tbody>\n",
       "</table>\n",
       "</div>"
      ],
      "text/plain": [
       "                   count    \n",
       "School_Islington      No Yes\n",
       "Resident_Islington          \n",
       "No                    24   2\n",
       "Yes                    0  30"
      ]
     },
     "execution_count": 93,
     "metadata": {},
     "output_type": "execute_result"
    }
   ],
   "source": [
    "pv7 = survey_df.pivot_table(index = 'Resident_Islington',\n",
    "                                    columns = 'School_Islington',\n",
    "                                    values = ['id'],\n",
    "                                    aggfunc='count',\n",
    "                                    fill_value = 0).rename(columns={'id':'count'})   #reanme = id to coun \n",
    "                                                                                     #aggfunc = funcion method (count)\n",
    "                                                                                     #fill_value function to set spaces to numbers 0\n",
    "pv7"
   ]
  },
  {
   "cell_type": "code",
   "execution_count": 94,
   "id": "398d013a",
   "metadata": {},
   "outputs": [
    {
     "data": {
      "text/plain": [
       "<Figure size 720x720 with 0 Axes>"
      ]
     },
     "metadata": {},
     "output_type": "display_data"
    },
    {
     "data": {
      "image/png": "[encoded data removed]",
      "text/plain": [
       "<Figure size 432x288 with 1 Axes>"
      ]
     },
     "metadata": {
      "needs_background": "light"
     },
     "output_type": "display_data"
    }
   ],
   "source": [
    "plt.figure(figsize = (10,10)) \n",
    "\n",
    "pv7.plot.bar()\n",
    "plt.legend(['School is not in Islington(NO)','School is in Islington(Yes)'])     #Use the legend to display the names used to divide the bar graph.\n",
    "                                                                                 #bbox_to_anchor = pecifies the space to be placed                 \n",
    "plt.xticks(rotation = 45)                                                        #rotation the name text 45 degrees\n",
    "\n",
    "plt.title('Respondents who live in Islington, is the school in Islington?')      #set the title of the graph  \n",
    "plt.xlabel('Respondents live in Islington')                                      #label the axes x\n",
    "plt.ylabel('Number of respondence')                                              #label the axes y\n",
    " \n",
    "plt.show();"
   ]
  },
  {
   "cell_type": "markdown",
   "id": "d2660c5c",
   "metadata": {},
   "source": [
    "The graph shows the respondents living in Islington and whether the respondents' children's schools are in Islington.  It can be seen that those who do not live in Islington, the majority of respondents' children's schools are not in Islington.  A small number of non-Islington residents have children's at school in Islington.  While Islington resident respondents' children's schools are entirely in Islington, none outside of Islington."
   ]
  },
  {
   "cell_type": "code",
   "execution_count": null,
   "id": "0872dddc",
   "metadata": {},
   "outputs": [],
   "source": []
  }
 ],
 "metadata": {
  "celltoolbar": "Edit Metadata",
  "kernelspec": {
   "display_name": "Python 3",
   "language": "python",
   "name": "python3"
  },
  "language_info": {
   "codemirror_mode": {
    "name": "ipython",
    "version": 3
   },
   "file_extension": ".py",
   "mimetype": "text/x-python",
   "name": "python",
   "nbconvert_exporter": "python",
   "pygments_lexer": "ipython3",
   "version": "3.8.8"
  }
 },
 "nbformat": 4,
 "nbformat_minor": 5
}
